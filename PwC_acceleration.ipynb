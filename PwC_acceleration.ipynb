{
  "nbformat": 4,
  "nbformat_minor": 0,
  "metadata": {
    "colab": {
      "name": "PwC_acceleration.ipynb",
      "provenance": [],
      "collapsed_sections": [
        "bkL6-AM4Lb3C",
        "ZLp6AVKa2nZ0"
      ],
      "toc_visible": true,
      "authorship_tag": "ABX9TyNAllqOQaffQ2uzaYhBeA8t",
      "include_colab_link": true
    },
    "kernelspec": {
      "name": "python3",
      "display_name": "Python 3"
    }
  },
  "cells": [
    {
      "cell_type": "markdown",
      "metadata": {
        "id": "view-in-github",
        "colab_type": "text"
      },
      "source": [
        "<a href=\"https://colab.research.google.com/github/Adamac123/PwC_data_talent_lab/blob/main/PwC_acceleration.ipynb\" target=\"_parent\"><img src=\"https://colab.research.google.com/assets/colab-badge.svg\" alt=\"Open In Colab\"/></a>"
      ]
    },
    {
      "cell_type": "code",
      "metadata": {
        "id": "2t2BnaI1yL00"
      },
      "source": [
        "import numpy as np \r\n",
        "import pandas as pd \r\n",
        "import seaborn as sns "
      ],
      "execution_count": 96,
      "outputs": []
    },
    {
      "cell_type": "markdown",
      "metadata": {
        "id": "bkL6-AM4Lb3C"
      },
      "source": [
        "# Wgrywanie i czyszczenie danych"
      ]
    },
    {
      "cell_type": "code",
      "metadata": {
        "colab": {
          "base_uri": "https://localhost:8080/",
          "height": 0
        },
        "id": "mMqoraFfDeDC",
        "outputId": "009357ff-3b0c-4ec1-f0c2-273e58330f6d"
      },
      "source": [
        "df = pd.read_csv('acceleration_data.csv', skipinitialspace=True,sep=',\"\"', engine ='python',doublequote=False)\r\n",
        "df.head(3)"
      ],
      "execution_count": 97,
      "outputs": [
        {
          "output_type": "execute_result",
          "data": {
            "text/html": [
              "<div>\n",
              "<style scoped>\n",
              "    .dataframe tbody tr th:only-of-type {\n",
              "        vertical-align: middle;\n",
              "    }\n",
              "\n",
              "    .dataframe tbody tr th {\n",
              "        vertical-align: top;\n",
              "    }\n",
              "\n",
              "    .dataframe thead th {\n",
              "        text-align: right;\n",
              "    }\n",
              "</style>\n",
              "<table border=\"1\" class=\"dataframe\">\n",
              "  <thead>\n",
              "    <tr style=\"text-align: right;\">\n",
              "      <th></th>\n",
              "      <th>\"ID</th>\n",
              "      <th>GEO\"\"</th>\n",
              "      <th>SECTOR\"\"</th>\n",
              "      <th>EMPLOYEES\"\"</th>\n",
              "      <th>INCOME\"\"</th>\n",
              "      <th>MARKETING_SPENDING\"\"</th>\n",
              "      <th>ACC_BEFORE\"\"</th>\n",
              "      <th>PWC_PRESS_INDEX\"\"</th>\n",
              "      <th>FB_LIKES\"\"</th>\n",
              "      <th>TWT_FOLLOWERS\"\"</th>\n",
              "      <th>YEAR_FOUNDED\"\"</th>\n",
              "      <th>EXP_CEO\"\"</th>\n",
              "      <th>AREA\"\"</th>\n",
              "      <th>PWC_EMPLOYEES\"\"</th>\n",
              "      <th>CREDIT\"\"</th>\n",
              "      <th>FLAG\"\"\"</th>\n",
              "    </tr>\n",
              "  </thead>\n",
              "  <tbody>\n",
              "    <tr>\n",
              "      <th>0</th>\n",
              "      <td>\"1</td>\n",
              "      <td>21.0017163707095,52.2314057981037\"\"</td>\n",
              "      <td>PUB\"\"</td>\n",
              "      <td>2\"\"</td>\n",
              "      <td>150426\"\"</td>\n",
              "      <td>7964\"\"</td>\n",
              "      <td>0\"\"</td>\n",
              "      <td>-8.07833534412621\"\"</td>\n",
              "      <td>1633\"\"</td>\n",
              "      <td>138\"\"</td>\n",
              "      <td>2010\"\"</td>\n",
              "      <td>NA\"\"</td>\n",
              "      <td>32\"\"</td>\n",
              "      <td>0\"\"</td>\n",
              "      <td>19950\"\"</td>\n",
              "      <td>0\"\"\"</td>\n",
              "    </tr>\n",
              "    <tr>\n",
              "      <th>1</th>\n",
              "      <td>\"2</td>\n",
              "      <td>21.0068688148316  , 52.2332658119407    \"\"</td>\n",
              "      <td>PUB\"\"</td>\n",
              "      <td>6\"\"</td>\n",
              "      <td>500078\"\"</td>\n",
              "      <td>30212\"\"</td>\n",
              "      <td>0\"\"</td>\n",
              "      <td>17.0328512444591\"\"</td>\n",
              "      <td>6128\"\"</td>\n",
              "      <td>605\"\"</td>\n",
              "      <td>2011\"\"</td>\n",
              "      <td>NA\"\"</td>\n",
              "      <td>44\"\"</td>\n",
              "      <td>1\"\"</td>\n",
              "      <td>45104\"\"</td>\n",
              "      <td>1\"\"\"</td>\n",
              "    </tr>\n",
              "    <tr>\n",
              "      <th>2</th>\n",
              "      <td>\"3</td>\n",
              "      <td>21.0746074383869  , 52.2790054865787  \"\"</td>\n",
              "      <td>IT\"\"</td>\n",
              "      <td>27\"\"</td>\n",
              "      <td>199767\"\"</td>\n",
              "      <td>4970\"\"</td>\n",
              "      <td>0\"\"</td>\n",
              "      <td>-7.32162072546331\"\"</td>\n",
              "      <td>487\"\"</td>\n",
              "      <td>106\"\"</td>\n",
              "      <td>2005\"\"</td>\n",
              "      <td>NA\"\"</td>\n",
              "      <td>83\"\"</td>\n",
              "      <td>0\"\"</td>\n",
              "      <td>499\"\"</td>\n",
              "      <td>0\"\"\"</td>\n",
              "    </tr>\n",
              "  </tbody>\n",
              "</table>\n",
              "</div>"
            ],
            "text/plain": [
              "  \"ID                                        GEO\"\"  ... CREDIT\"\" FLAG\"\"\"\n",
              "0  \"1          21.0017163707095,52.2314057981037\"\"  ...  19950\"\"    0\"\"\"\n",
              "1  \"2   21.0068688148316  , 52.2332658119407    \"\"  ...  45104\"\"    1\"\"\"\n",
              "2  \"3     21.0746074383869  , 52.2790054865787  \"\"  ...    499\"\"    0\"\"\"\n",
              "\n",
              "[3 rows x 16 columns]"
            ]
          },
          "metadata": {
            "tags": []
          },
          "execution_count": 97
        }
      ]
    },
    {
      "cell_type": "code",
      "metadata": {
        "colab": {
          "base_uri": "https://localhost:8080/",
          "height": 0
        },
        "id": "-uySU4Ct7yoC",
        "outputId": "312f6ccc-f1db-4f73-e38b-b2fb582f079f"
      },
      "source": [
        "df = pd.read_csv('acceleration_data.csv', skipinitialspace=True,sep=',\"\"', engine ='python',doublequote=False).replace('\"','',regex=True)\r\n",
        "df.head(3)\r\n"
      ],
      "execution_count": 4,
      "outputs": [
        {
          "output_type": "execute_result",
          "data": {
            "text/html": [
              "<div>\n",
              "<style scoped>\n",
              "    .dataframe tbody tr th:only-of-type {\n",
              "        vertical-align: middle;\n",
              "    }\n",
              "\n",
              "    .dataframe tbody tr th {\n",
              "        vertical-align: top;\n",
              "    }\n",
              "\n",
              "    .dataframe thead th {\n",
              "        text-align: right;\n",
              "    }\n",
              "</style>\n",
              "<table border=\"1\" class=\"dataframe\">\n",
              "  <thead>\n",
              "    <tr style=\"text-align: right;\">\n",
              "      <th></th>\n",
              "      <th>\"ID</th>\n",
              "      <th>GEO\"\"</th>\n",
              "      <th>SECTOR\"\"</th>\n",
              "      <th>EMPLOYEES\"\"</th>\n",
              "      <th>INCOME\"\"</th>\n",
              "      <th>MARKETING_SPENDING\"\"</th>\n",
              "      <th>ACC_BEFORE\"\"</th>\n",
              "      <th>PWC_PRESS_INDEX\"\"</th>\n",
              "      <th>FB_LIKES\"\"</th>\n",
              "      <th>TWT_FOLLOWERS\"\"</th>\n",
              "      <th>YEAR_FOUNDED\"\"</th>\n",
              "      <th>EXP_CEO\"\"</th>\n",
              "      <th>AREA\"\"</th>\n",
              "      <th>PWC_EMPLOYEES\"\"</th>\n",
              "      <th>CREDIT\"\"</th>\n",
              "      <th>FLAG\"\"\"</th>\n",
              "    </tr>\n",
              "  </thead>\n",
              "  <tbody>\n",
              "    <tr>\n",
              "      <th>0</th>\n",
              "      <td>1</td>\n",
              "      <td>21.0017163707095,52.2314057981037</td>\n",
              "      <td>PUB</td>\n",
              "      <td>2</td>\n",
              "      <td>150426</td>\n",
              "      <td>7964</td>\n",
              "      <td>0</td>\n",
              "      <td>-8.07833534412621</td>\n",
              "      <td>1633</td>\n",
              "      <td>138</td>\n",
              "      <td>2010</td>\n",
              "      <td>NA</td>\n",
              "      <td>32</td>\n",
              "      <td>0</td>\n",
              "      <td>19950</td>\n",
              "      <td>0</td>\n",
              "    </tr>\n",
              "    <tr>\n",
              "      <th>1</th>\n",
              "      <td>2</td>\n",
              "      <td>21.0068688148316  , 52.2332658119407</td>\n",
              "      <td>PUB</td>\n",
              "      <td>6</td>\n",
              "      <td>500078</td>\n",
              "      <td>30212</td>\n",
              "      <td>0</td>\n",
              "      <td>17.0328512444591</td>\n",
              "      <td>6128</td>\n",
              "      <td>605</td>\n",
              "      <td>2011</td>\n",
              "      <td>NA</td>\n",
              "      <td>44</td>\n",
              "      <td>1</td>\n",
              "      <td>45104</td>\n",
              "      <td>1</td>\n",
              "    </tr>\n",
              "    <tr>\n",
              "      <th>2</th>\n",
              "      <td>3</td>\n",
              "      <td>21.0746074383869  , 52.2790054865787</td>\n",
              "      <td>IT</td>\n",
              "      <td>27</td>\n",
              "      <td>199767</td>\n",
              "      <td>4970</td>\n",
              "      <td>0</td>\n",
              "      <td>-7.32162072546331</td>\n",
              "      <td>487</td>\n",
              "      <td>106</td>\n",
              "      <td>2005</td>\n",
              "      <td>NA</td>\n",
              "      <td>83</td>\n",
              "      <td>0</td>\n",
              "      <td>499</td>\n",
              "      <td>0</td>\n",
              "    </tr>\n",
              "  </tbody>\n",
              "</table>\n",
              "</div>"
            ],
            "text/plain": [
              "  \"ID                                      GEO\"\"  ... CREDIT\"\" FLAG\"\"\"\n",
              "0   1          21.0017163707095,52.2314057981037  ...    19950       0\n",
              "1   2   21.0068688148316  , 52.2332658119407      ...    45104       1\n",
              "2   3     21.0746074383869  , 52.2790054865787    ...      499       0\n",
              "\n",
              "[3 rows x 16 columns]"
            ]
          },
          "metadata": {
            "tags": []
          },
          "execution_count": 4
        }
      ]
    },
    {
      "cell_type": "code",
      "metadata": {
        "colab": {
          "base_uri": "https://localhost:8080/",
          "height": 0
        },
        "id": "XozyTplLA-AM",
        "outputId": "f9cca663-559d-4e91-891f-3c883d1f1def"
      },
      "source": [
        "df_czysty = df.rename(columns={'\"ID':'ID', 'GEO\"\"':'GEO', 'SECTOR\"\"':'SECTOR','EMPLOYEES\"\"':'EMPLOYEES','INCOME\"\"':'INCOME','MARKETING_SPENDING\"\"':'MARKETING_SPENDING','ACC_BEFORE\"\"':'ACC_BEFORE','PWC_PRESS_INDEX\"\"':'PWC_PRESS_INDEX','FB_LIKES\"\"':'FB_LIKES','TWT_FOLLOWERS\"\"':'TWT_FOLLOWERS','YEAR_FOUNDED\"\"':'YEAR_FOUNDED','EXP_CEO\"\"':'EXP_CEO','AREA\"\"':'AREA','PWC_EMPLOYEES\"\"':'PWC_EMPLOYEES','CREDIT\"\"':'CREDIT','FLAG\"\"\"':'FLAG'})\r\n",
        "df_czysty.head(3)"
      ],
      "execution_count": 5,
      "outputs": [
        {
          "output_type": "execute_result",
          "data": {
            "text/html": [
              "<div>\n",
              "<style scoped>\n",
              "    .dataframe tbody tr th:only-of-type {\n",
              "        vertical-align: middle;\n",
              "    }\n",
              "\n",
              "    .dataframe tbody tr th {\n",
              "        vertical-align: top;\n",
              "    }\n",
              "\n",
              "    .dataframe thead th {\n",
              "        text-align: right;\n",
              "    }\n",
              "</style>\n",
              "<table border=\"1\" class=\"dataframe\">\n",
              "  <thead>\n",
              "    <tr style=\"text-align: right;\">\n",
              "      <th></th>\n",
              "      <th>ID</th>\n",
              "      <th>GEO</th>\n",
              "      <th>SECTOR</th>\n",
              "      <th>EMPLOYEES</th>\n",
              "      <th>INCOME</th>\n",
              "      <th>MARKETING_SPENDING</th>\n",
              "      <th>ACC_BEFORE</th>\n",
              "      <th>PWC_PRESS_INDEX</th>\n",
              "      <th>FB_LIKES</th>\n",
              "      <th>TWT_FOLLOWERS</th>\n",
              "      <th>YEAR_FOUNDED</th>\n",
              "      <th>EXP_CEO</th>\n",
              "      <th>AREA</th>\n",
              "      <th>PWC_EMPLOYEES</th>\n",
              "      <th>CREDIT</th>\n",
              "      <th>FLAG</th>\n",
              "    </tr>\n",
              "  </thead>\n",
              "  <tbody>\n",
              "    <tr>\n",
              "      <th>0</th>\n",
              "      <td>1</td>\n",
              "      <td>21.0017163707095,52.2314057981037</td>\n",
              "      <td>PUB</td>\n",
              "      <td>2</td>\n",
              "      <td>150426</td>\n",
              "      <td>7964</td>\n",
              "      <td>0</td>\n",
              "      <td>-8.07833534412621</td>\n",
              "      <td>1633</td>\n",
              "      <td>138</td>\n",
              "      <td>2010</td>\n",
              "      <td>NA</td>\n",
              "      <td>32</td>\n",
              "      <td>0</td>\n",
              "      <td>19950</td>\n",
              "      <td>0</td>\n",
              "    </tr>\n",
              "    <tr>\n",
              "      <th>1</th>\n",
              "      <td>2</td>\n",
              "      <td>21.0068688148316  , 52.2332658119407</td>\n",
              "      <td>PUB</td>\n",
              "      <td>6</td>\n",
              "      <td>500078</td>\n",
              "      <td>30212</td>\n",
              "      <td>0</td>\n",
              "      <td>17.0328512444591</td>\n",
              "      <td>6128</td>\n",
              "      <td>605</td>\n",
              "      <td>2011</td>\n",
              "      <td>NA</td>\n",
              "      <td>44</td>\n",
              "      <td>1</td>\n",
              "      <td>45104</td>\n",
              "      <td>1</td>\n",
              "    </tr>\n",
              "    <tr>\n",
              "      <th>2</th>\n",
              "      <td>3</td>\n",
              "      <td>21.0746074383869  , 52.2790054865787</td>\n",
              "      <td>IT</td>\n",
              "      <td>27</td>\n",
              "      <td>199767</td>\n",
              "      <td>4970</td>\n",
              "      <td>0</td>\n",
              "      <td>-7.32162072546331</td>\n",
              "      <td>487</td>\n",
              "      <td>106</td>\n",
              "      <td>2005</td>\n",
              "      <td>NA</td>\n",
              "      <td>83</td>\n",
              "      <td>0</td>\n",
              "      <td>499</td>\n",
              "      <td>0</td>\n",
              "    </tr>\n",
              "  </tbody>\n",
              "</table>\n",
              "</div>"
            ],
            "text/plain": [
              "  ID                                        GEO  ... CREDIT FLAG\n",
              "0  1          21.0017163707095,52.2314057981037  ...  19950    0\n",
              "1  2   21.0068688148316  , 52.2332658119407      ...  45104    1\n",
              "2  3     21.0746074383869  , 52.2790054865787    ...    499    0\n",
              "\n",
              "[3 rows x 16 columns]"
            ]
          },
          "metadata": {
            "tags": []
          },
          "execution_count": 5
        }
      ]
    },
    {
      "cell_type": "code",
      "metadata": {
        "colab": {
          "base_uri": "https://localhost:8080/"
        },
        "id": "pKyrphMtJiB_",
        "outputId": "fb1cf307-b5de-4e25-8073-d80fb3d5423c"
      },
      "source": [
        "df_czysty.columns"
      ],
      "execution_count": 98,
      "outputs": [
        {
          "output_type": "execute_result",
          "data": {
            "text/plain": [
              "Index(['ID', 'GEO', 'SECTOR', 'EMPLOYEES', 'INCOME', 'MARKETING_SPENDING',\n",
              "       'ACC_BEFORE', 'PWC_PRESS_INDEX', 'FB_LIKES', 'TWT_FOLLOWERS',\n",
              "       'YEAR_FOUNDED', 'EXP_CEO', 'AREA', 'PWC_EMPLOYEES', 'CREDIT', 'FLAG'],\n",
              "      dtype='object')"
            ]
          },
          "metadata": {
            "tags": []
          },
          "execution_count": 98
        }
      ]
    },
    {
      "cell_type": "code",
      "metadata": {
        "id": "Eco2K2bFJYhz"
      },
      "source": [
        "df_czysty_typydanych = df_czysty.astype({'ID':int, 'GEO':object, 'SECTOR':str, 'EMPLOYEES':int, 'INCOME':float, 'MARKETING_SPENDING':float,\r\n",
        "       'ACC_BEFORE':int, 'PWC_PRESS_INDEX':float, 'FB_LIKES':int, 'TWT_FOLLOWERS':int,\r\n",
        "       'YEAR_FOUNDED':object, 'EXP_CEO':object, 'AREA':float, 'PWC_EMPLOYEES':int, 'CREDIT':float, 'FLAG':int})"
      ],
      "execution_count": 99,
      "outputs": []
    },
    {
      "cell_type": "code",
      "metadata": {
        "colab": {
          "base_uri": "https://localhost:8080/"
        },
        "id": "ik8-i0PSKofI",
        "outputId": "2f5d179c-4add-4014-a305-8624646357c6"
      },
      "source": [
        "df_czysty_typydanych.dtypes"
      ],
      "execution_count": 100,
      "outputs": [
        {
          "output_type": "execute_result",
          "data": {
            "text/plain": [
              "ID                      int64\n",
              "GEO                    object\n",
              "SECTOR                 object\n",
              "EMPLOYEES               int64\n",
              "INCOME                float64\n",
              "MARKETING_SPENDING    float64\n",
              "ACC_BEFORE              int64\n",
              "PWC_PRESS_INDEX       float64\n",
              "FB_LIKES                int64\n",
              "TWT_FOLLOWERS           int64\n",
              "YEAR_FOUNDED           object\n",
              "EXP_CEO                object\n",
              "AREA                  float64\n",
              "PWC_EMPLOYEES           int64\n",
              "CREDIT                float64\n",
              "FLAG                    int64\n",
              "dtype: object"
            ]
          },
          "metadata": {
            "tags": []
          },
          "execution_count": 100
        }
      ]
    },
    {
      "cell_type": "markdown",
      "metadata": {
        "id": "ZLp6AVKa2nZ0"
      },
      "source": [
        "# Geospacial data"
      ]
    },
    {
      "cell_type": "markdown",
      "metadata": {
        "id": "11DGsN_B2tV_"
      },
      "source": [
        "rozdzielamy kolumnę zawierającą długość i szerokość geograficzną na dwie"
      ]
    },
    {
      "cell_type": "code",
      "metadata": {
        "id": "V2Ys5UDc2sBD",
        "colab": {
          "base_uri": "https://localhost:8080/",
          "height": 0
        },
        "outputId": "e1b95abb-dcc0-496c-d96b-4957cd04bd54"
      },
      "source": [
        "lat = []\r\n",
        "lon = []\r\n",
        "\r\n",
        "for row in df_czysty_typydanych['GEO']:\r\n",
        "    # Try to,\r\n",
        "    try:\r\n",
        "        # Split the row by comma and append\r\n",
        "        # everything before the comma to lat\r\n",
        "        lat.append(row.split(',')[0])\r\n",
        "        # Split the row by comma and append\r\n",
        "        # everything after the comma to lon\r\n",
        "        lon.append(row.split(',')[1])\r\n",
        "    except:\r\n",
        "        # append a missing value to lat\r\n",
        "        lat.append(np.NaN)\r\n",
        "        # append a missing value to lon\r\n",
        "        lon.append(np.NaN)\r\n",
        "\r\n",
        "\r\n",
        "# Create two new columns from lat and lon\r\n",
        "df_czysty_typydanych['latitude'] = lat\r\n",
        "df_czysty_typydanych['longitude'] = lon\r\n",
        "df_czysty_typydanych.drop('GEO', axis = 1)"
      ],
      "execution_count": 9,
      "outputs": [
        {
          "output_type": "execute_result",
          "data": {
            "text/html": [
              "<div>\n",
              "<style scoped>\n",
              "    .dataframe tbody tr th:only-of-type {\n",
              "        vertical-align: middle;\n",
              "    }\n",
              "\n",
              "    .dataframe tbody tr th {\n",
              "        vertical-align: top;\n",
              "    }\n",
              "\n",
              "    .dataframe thead th {\n",
              "        text-align: right;\n",
              "    }\n",
              "</style>\n",
              "<table border=\"1\" class=\"dataframe\">\n",
              "  <thead>\n",
              "    <tr style=\"text-align: right;\">\n",
              "      <th></th>\n",
              "      <th>ID</th>\n",
              "      <th>SECTOR</th>\n",
              "      <th>EMPLOYEES</th>\n",
              "      <th>INCOME</th>\n",
              "      <th>MARKETING_SPENDING</th>\n",
              "      <th>ACC_BEFORE</th>\n",
              "      <th>PWC_PRESS_INDEX</th>\n",
              "      <th>FB_LIKES</th>\n",
              "      <th>TWT_FOLLOWERS</th>\n",
              "      <th>YEAR_FOUNDED</th>\n",
              "      <th>EXP_CEO</th>\n",
              "      <th>AREA</th>\n",
              "      <th>PWC_EMPLOYEES</th>\n",
              "      <th>CREDIT</th>\n",
              "      <th>FLAG</th>\n",
              "      <th>latitude</th>\n",
              "      <th>longitude</th>\n",
              "    </tr>\n",
              "  </thead>\n",
              "  <tbody>\n",
              "    <tr>\n",
              "      <th>0</th>\n",
              "      <td>1</td>\n",
              "      <td>PUB</td>\n",
              "      <td>2</td>\n",
              "      <td>150426.0</td>\n",
              "      <td>7964.0</td>\n",
              "      <td>0</td>\n",
              "      <td>-8.078335</td>\n",
              "      <td>1633</td>\n",
              "      <td>138</td>\n",
              "      <td>2010</td>\n",
              "      <td>NA</td>\n",
              "      <td>32.0</td>\n",
              "      <td>0</td>\n",
              "      <td>19950.0</td>\n",
              "      <td>0</td>\n",
              "      <td>21.0017163707095</td>\n",
              "      <td>52.2314057981037</td>\n",
              "    </tr>\n",
              "    <tr>\n",
              "      <th>1</th>\n",
              "      <td>2</td>\n",
              "      <td>PUB</td>\n",
              "      <td>6</td>\n",
              "      <td>500078.0</td>\n",
              "      <td>30212.0</td>\n",
              "      <td>0</td>\n",
              "      <td>17.032851</td>\n",
              "      <td>6128</td>\n",
              "      <td>605</td>\n",
              "      <td>2011</td>\n",
              "      <td>NA</td>\n",
              "      <td>44.0</td>\n",
              "      <td>1</td>\n",
              "      <td>45104.0</td>\n",
              "      <td>1</td>\n",
              "      <td>21.0068688148316</td>\n",
              "      <td>52.2332658119407</td>\n",
              "    </tr>\n",
              "    <tr>\n",
              "      <th>2</th>\n",
              "      <td>3</td>\n",
              "      <td>IT</td>\n",
              "      <td>27</td>\n",
              "      <td>199767.0</td>\n",
              "      <td>4970.0</td>\n",
              "      <td>0</td>\n",
              "      <td>-7.321621</td>\n",
              "      <td>487</td>\n",
              "      <td>106</td>\n",
              "      <td>2005</td>\n",
              "      <td>NA</td>\n",
              "      <td>83.0</td>\n",
              "      <td>0</td>\n",
              "      <td>499.0</td>\n",
              "      <td>0</td>\n",
              "      <td>21.0746074383869</td>\n",
              "      <td>52.2790054865787</td>\n",
              "    </tr>\n",
              "    <tr>\n",
              "      <th>3</th>\n",
              "      <td>4</td>\n",
              "      <td>IT</td>\n",
              "      <td>5</td>\n",
              "      <td>109200.0</td>\n",
              "      <td>7010.0</td>\n",
              "      <td>1</td>\n",
              "      <td>1.135431</td>\n",
              "      <td>661</td>\n",
              "      <td>116</td>\n",
              "      <td>2011</td>\n",
              "      <td>NA</td>\n",
              "      <td>21.0</td>\n",
              "      <td>1</td>\n",
              "      <td>0.0</td>\n",
              "      <td>1</td>\n",
              "      <td>21.0120824468674</td>\n",
              "      <td>52.2320822895085</td>\n",
              "    </tr>\n",
              "    <tr>\n",
              "      <th>4</th>\n",
              "      <td>5</td>\n",
              "      <td>IT</td>\n",
              "      <td>3</td>\n",
              "      <td>112200.0</td>\n",
              "      <td>9000.0</td>\n",
              "      <td>0</td>\n",
              "      <td>0.950873</td>\n",
              "      <td>926</td>\n",
              "      <td>172</td>\n",
              "      <td>2012</td>\n",
              "      <td>5</td>\n",
              "      <td>23.0</td>\n",
              "      <td>0</td>\n",
              "      <td>-997.0</td>\n",
              "      <td>1</td>\n",
              "      <td>21.0001250609641</td>\n",
              "      <td>52.2399573325692</td>\n",
              "    </tr>\n",
              "    <tr>\n",
              "      <th>...</th>\n",
              "      <td>...</td>\n",
              "      <td>...</td>\n",
              "      <td>...</td>\n",
              "      <td>...</td>\n",
              "      <td>...</td>\n",
              "      <td>...</td>\n",
              "      <td>...</td>\n",
              "      <td>...</td>\n",
              "      <td>...</td>\n",
              "      <td>...</td>\n",
              "      <td>...</td>\n",
              "      <td>...</td>\n",
              "      <td>...</td>\n",
              "      <td>...</td>\n",
              "      <td>...</td>\n",
              "      <td>...</td>\n",
              "      <td>...</td>\n",
              "    </tr>\n",
              "    <tr>\n",
              "      <th>9995</th>\n",
              "      <td>9996</td>\n",
              "      <td>IT</td>\n",
              "      <td>8</td>\n",
              "      <td>79900.0</td>\n",
              "      <td>8980.0</td>\n",
              "      <td>0</td>\n",
              "      <td>0.974774</td>\n",
              "      <td>888</td>\n",
              "      <td>180</td>\n",
              "      <td>2012</td>\n",
              "      <td>NA</td>\n",
              "      <td>18.0</td>\n",
              "      <td>2</td>\n",
              "      <td>2004.0</td>\n",
              "      <td>1</td>\n",
              "      <td>21.0245139057341</td>\n",
              "      <td>52.2359749760199</td>\n",
              "    </tr>\n",
              "    <tr>\n",
              "      <th>9996</th>\n",
              "      <td>9997</td>\n",
              "      <td>IT</td>\n",
              "      <td>19</td>\n",
              "      <td>336500.0</td>\n",
              "      <td>23940.0</td>\n",
              "      <td>0</td>\n",
              "      <td>4.389039</td>\n",
              "      <td>2383</td>\n",
              "      <td>496</td>\n",
              "      <td>2006</td>\n",
              "      <td>NA</td>\n",
              "      <td>202.0</td>\n",
              "      <td>5</td>\n",
              "      <td>0.0</td>\n",
              "      <td>1</td>\n",
              "      <td>21.0186472133435</td>\n",
              "      <td>52.2313234646758</td>\n",
              "    </tr>\n",
              "    <tr>\n",
              "      <th>9997</th>\n",
              "      <td>9998</td>\n",
              "      <td>IT</td>\n",
              "      <td>3</td>\n",
              "      <td>200265.0</td>\n",
              "      <td>4981.0</td>\n",
              "      <td>1</td>\n",
              "      <td>-4.523559</td>\n",
              "      <td>502</td>\n",
              "      <td>109</td>\n",
              "      <td>2002</td>\n",
              "      <td>5</td>\n",
              "      <td>74.0</td>\n",
              "      <td>1</td>\n",
              "      <td>499.0</td>\n",
              "      <td>0</td>\n",
              "      <td>21.0660097305197</td>\n",
              "      <td>52.2955965697952</td>\n",
              "    </tr>\n",
              "    <tr>\n",
              "      <th>9998</th>\n",
              "      <td>9999</td>\n",
              "      <td>IT</td>\n",
              "      <td>30</td>\n",
              "      <td>199951.0</td>\n",
              "      <td>4957.0</td>\n",
              "      <td>1</td>\n",
              "      <td>-3.898251</td>\n",
              "      <td>532</td>\n",
              "      <td>101</td>\n",
              "      <td>2001</td>\n",
              "      <td>6</td>\n",
              "      <td>76.0</td>\n",
              "      <td>0</td>\n",
              "      <td>1000.0</td>\n",
              "      <td>1</td>\n",
              "      <td>21.0846834506607</td>\n",
              "      <td>52.2756593818404</td>\n",
              "    </tr>\n",
              "    <tr>\n",
              "      <th>9999</th>\n",
              "      <td>10000</td>\n",
              "      <td>IT</td>\n",
              "      <td>55</td>\n",
              "      <td>272350.0</td>\n",
              "      <td>9972.0</td>\n",
              "      <td>1</td>\n",
              "      <td>-2.169033</td>\n",
              "      <td>1011</td>\n",
              "      <td>176</td>\n",
              "      <td>1999</td>\n",
              "      <td>13</td>\n",
              "      <td>339.0</td>\n",
              "      <td>4</td>\n",
              "      <td>1103.0</td>\n",
              "      <td>1</td>\n",
              "      <td>21.1981747928141</td>\n",
              "      <td>52.1826778258942</td>\n",
              "    </tr>\n",
              "  </tbody>\n",
              "</table>\n",
              "<p>10000 rows × 17 columns</p>\n",
              "</div>"
            ],
            "text/plain": [
              "         ID SECTOR  ...              latitude              longitude\n",
              "0         1    PUB  ...      21.0017163707095       52.2314057981037\n",
              "1         2    PUB  ...    21.0068688148316     52.2332658119407    \n",
              "2         3     IT  ...    21.0746074383869       52.2790054865787  \n",
              "3         4     IT  ...    21.0120824468674     52.2320822895085    \n",
              "4         5     IT  ...    21.0001250609641     52.2399573325692    \n",
              "...     ...    ...  ...                   ...                    ...\n",
              "9995   9996     IT  ...    21.0245139057341     52.2359749760199    \n",
              "9996   9997     IT  ...    21.0186472133435     52.2313234646758    \n",
              "9997   9998     IT  ...    21.0660097305197       52.2955965697952  \n",
              "9998   9999     IT  ...    21.0846834506607       52.2756593818404  \n",
              "9999  10000     IT  ...    21.1981747928141      52.1826778258942   \n",
              "\n",
              "[10000 rows x 17 columns]"
            ]
          },
          "metadata": {
            "tags": []
          },
          "execution_count": 9
        }
      ]
    },
    {
      "cell_type": "code",
      "metadata": {
        "id": "CXAB3myn2yvE",
        "colab": {
          "base_uri": "https://localhost:8080/",
          "height": 0
        },
        "outputId": "02b10b22-172d-4621-f0a7-74a5da7e165a"
      },
      "source": [
        "from sklearn.cluster import KMeans\r\n",
        "import matplotlib.pyplot as plt\r\n",
        "\r\n",
        "K_clusters = range(1,10)\r\n",
        "kmeans = [KMeans(n_clusters=i) for i in K_clusters]\r\n",
        "Y_axis = df_czysty_typydanych[['latitude']]\r\n",
        "X_axis = df_czysty_typydanych[['longitude']]\r\n",
        "score = [kmeans[i].fit(Y_axis).score(Y_axis) for i in range(len(kmeans))]\r\n",
        "# Visualize\r\n",
        "plt.plot(K_clusters, score)\r\n",
        "plt.xlabel('Number of Clusters')\r\n",
        "plt.ylabel('Score')\r\n",
        "plt.title('Elbow Curve')\r\n",
        "plt.show()"
      ],
      "execution_count": 10,
      "outputs": [
        {
          "output_type": "display_data",
          "data": {
            "image/png": "[encoded data removed]",
            "text/plain": [
              "<Figure size 432x288 with 1 Axes>"
            ]
          },
          "metadata": {
            "tags": [],
            "needs_background": "light"
          }
        }
      ]
    },
    {
      "cell_type": "markdown",
      "metadata": {
        "id": "zfxaotm920zD"
      },
      "source": [
        "Wniosek - że podzielimy dane na 3 clusters"
      ]
    },
    {
      "cell_type": "code",
      "metadata": {
        "id": "I-hr-14122xP"
      },
      "source": [
        "km = KMeans(n_clusters = 3, random_state=45)"
      ],
      "execution_count": 11,
      "outputs": []
    },
    {
      "cell_type": "code",
      "metadata": {
        "id": "U-R6YlI1241x",
        "colab": {
          "base_uri": "https://localhost:8080/"
        },
        "outputId": "1462382e-702a-43fe-f5c4-f6afa46c6bad"
      },
      "source": [
        "y_predicted = km.fit_predict(df_czysty_typydanych[['latitude', 'longitude']])\r\n",
        "y_predicted.shape"
      ],
      "execution_count": 12,
      "outputs": [
        {
          "output_type": "execute_result",
          "data": {
            "text/plain": [
              "(10000,)"
            ]
          },
          "metadata": {
            "tags": []
          },
          "execution_count": 12
        }
      ]
    },
    {
      "cell_type": "code",
      "metadata": {
        "id": "kpvFC90G26yg",
        "colab": {
          "base_uri": "https://localhost:8080/",
          "height": 0
        },
        "outputId": "bc1bc5fe-31ce-4cbb-db4c-151f6ccf6ddb"
      },
      "source": [
        "df_czysty_typydanych['cluster_label'] = y_predicted\r\n",
        "df_czysty_typydanych.head(2)"
      ],
      "execution_count": 13,
      "outputs": [
        {
          "output_type": "execute_result",
          "data": {
            "text/html": [
              "<div>\n",
              "<style scoped>\n",
              "    .dataframe tbody tr th:only-of-type {\n",
              "        vertical-align: middle;\n",
              "    }\n",
              "\n",
              "    .dataframe tbody tr th {\n",
              "        vertical-align: top;\n",
              "    }\n",
              "\n",
              "    .dataframe thead th {\n",
              "        text-align: right;\n",
              "    }\n",
              "</style>\n",
              "<table border=\"1\" class=\"dataframe\">\n",
              "  <thead>\n",
              "    <tr style=\"text-align: right;\">\n",
              "      <th></th>\n",
              "      <th>ID</th>\n",
              "      <th>GEO</th>\n",
              "      <th>SECTOR</th>\n",
              "      <th>EMPLOYEES</th>\n",
              "      <th>INCOME</th>\n",
              "      <th>MARKETING_SPENDING</th>\n",
              "      <th>ACC_BEFORE</th>\n",
              "      <th>PWC_PRESS_INDEX</th>\n",
              "      <th>FB_LIKES</th>\n",
              "      <th>TWT_FOLLOWERS</th>\n",
              "      <th>YEAR_FOUNDED</th>\n",
              "      <th>EXP_CEO</th>\n",
              "      <th>AREA</th>\n",
              "      <th>PWC_EMPLOYEES</th>\n",
              "      <th>CREDIT</th>\n",
              "      <th>FLAG</th>\n",
              "      <th>latitude</th>\n",
              "      <th>longitude</th>\n",
              "      <th>cluster_label</th>\n",
              "    </tr>\n",
              "  </thead>\n",
              "  <tbody>\n",
              "    <tr>\n",
              "      <th>0</th>\n",
              "      <td>1</td>\n",
              "      <td>21.0017163707095,52.2314057981037</td>\n",
              "      <td>PUB</td>\n",
              "      <td>2</td>\n",
              "      <td>150426.0</td>\n",
              "      <td>7964.0</td>\n",
              "      <td>0</td>\n",
              "      <td>-8.078335</td>\n",
              "      <td>1633</td>\n",
              "      <td>138</td>\n",
              "      <td>2010</td>\n",
              "      <td>NA</td>\n",
              "      <td>32.0</td>\n",
              "      <td>0</td>\n",
              "      <td>19950.0</td>\n",
              "      <td>0</td>\n",
              "      <td>21.0017163707095</td>\n",
              "      <td>52.2314057981037</td>\n",
              "      <td>2</td>\n",
              "    </tr>\n",
              "    <tr>\n",
              "      <th>1</th>\n",
              "      <td>2</td>\n",
              "      <td>21.0068688148316  , 52.2332658119407</td>\n",
              "      <td>PUB</td>\n",
              "      <td>6</td>\n",
              "      <td>500078.0</td>\n",
              "      <td>30212.0</td>\n",
              "      <td>0</td>\n",
              "      <td>17.032851</td>\n",
              "      <td>6128</td>\n",
              "      <td>605</td>\n",
              "      <td>2011</td>\n",
              "      <td>NA</td>\n",
              "      <td>44.0</td>\n",
              "      <td>1</td>\n",
              "      <td>45104.0</td>\n",
              "      <td>1</td>\n",
              "      <td>21.0068688148316</td>\n",
              "      <td>52.2332658119407</td>\n",
              "      <td>2</td>\n",
              "    </tr>\n",
              "  </tbody>\n",
              "</table>\n",
              "</div>"
            ],
            "text/plain": [
              "   ID  ... cluster_label\n",
              "0   1  ...             2\n",
              "1   2  ...             2\n",
              "\n",
              "[2 rows x 19 columns]"
            ]
          },
          "metadata": {
            "tags": []
          },
          "execution_count": 13
        }
      ]
    },
    {
      "cell_type": "markdown",
      "metadata": {
        "id": "hCtJqNyeLXh8"
      },
      "source": [
        "# Exploratory data analysis\r\n"
      ]
    },
    {
      "cell_type": "markdown",
      "metadata": {
        "id": "QTYV7R2pLkxO"
      },
      "source": [
        "Sprawdzam ile firm z bazy danych upadło a ile nie.\r\n",
        "Wygląda to na w dobrze zbalasnowaną bazę danych "
      ]
    },
    {
      "cell_type": "code",
      "metadata": {
        "colab": {
          "base_uri": "https://localhost:8080/",
          "height": 297
        },
        "id": "B55qPcLoW_xg",
        "outputId": "70a6cdf8-c5e8-404d-be3c-f91576c4d9d3"
      },
      "source": [
        "df_clean = df_czysty_typydanych\r\n",
        "sns.histplot(df_clean['FLAG'])\r\n"
      ],
      "execution_count": 14,
      "outputs": [
        {
          "output_type": "execute_result",
          "data": {
            "text/plain": [
              "<matplotlib.axes._subplots.AxesSubplot at 0x7f5237218128>"
            ]
          },
          "metadata": {
            "tags": []
          },
          "execution_count": 14
        },
        {
          "output_type": "display_data",
          "data": {
            "image/png": "[encoded data removed]",
            "text/plain": [
              "<Figure size 432x288 with 1 Axes>"
            ]
          },
          "metadata": {
            "tags": [],
            "needs_background": "light"
          }
        }
      ]
    },
    {
      "cell_type": "markdown",
      "metadata": {
        "id": "1Eg-oRd0LuN7"
      },
      "source": [
        "Robię pierwsze korelacje i wizualizacje"
      ]
    },
    {
      "cell_type": "code",
      "metadata": {
        "colab": {
          "base_uri": "https://localhost:8080/"
        },
        "id": "BOfQ3sgoLt9g",
        "outputId": "695ce37a-86ef-4160-e267-1ff292298aba"
      },
      "source": [
        "df_clean.columns"
      ],
      "execution_count": 15,
      "outputs": [
        {
          "output_type": "execute_result",
          "data": {
            "text/plain": [
              "Index(['ID', 'GEO', 'SECTOR', 'EMPLOYEES', 'INCOME', 'MARKETING_SPENDING',\n",
              "       'ACC_BEFORE', 'PWC_PRESS_INDEX', 'FB_LIKES', 'TWT_FOLLOWERS',\n",
              "       'YEAR_FOUNDED', 'EXP_CEO', 'AREA', 'PWC_EMPLOYEES', 'CREDIT', 'FLAG',\n",
              "       'latitude', 'longitude', 'cluster_label'],\n",
              "      dtype='object')"
            ]
          },
          "metadata": {
            "tags": []
          },
          "execution_count": 15
        }
      ]
    },
    {
      "cell_type": "code",
      "metadata": {
        "colab": {
          "base_uri": "https://localhost:8080/",
          "height": 393
        },
        "id": "fl1DyWD3NjrM",
        "outputId": "803dd8a6-f1c3-462e-d6ce-fd9b9d6ec42a"
      },
      "source": [
        "sns.heatmap(df_clean.corr())"
      ],
      "execution_count": 16,
      "outputs": [
        {
          "output_type": "execute_result",
          "data": {
            "text/plain": [
              "<matplotlib.axes._subplots.AxesSubplot at 0x7f5237b1db70>"
            ]
          },
          "metadata": {
            "tags": []
          },
          "execution_count": 16
        },
        {
          "output_type": "display_data",
          "data": {
            "image/png": "[encoded data removed]",
            "text/plain": [
              "<Figure size 432x288 with 2 Axes>"
            ]
          },
          "metadata": {
            "tags": [],
            "needs_background": "light"
          }
        }
      ]
    },
    {
      "cell_type": "markdown",
      "metadata": {
        "id": "9-ar4EqfUPiE"
      },
      "source": [
        "Dzielę bazę danych na dwie. Te firmy, które upadły w ciągu dwóch lat i te które nie upadły.\r\n"
      ]
    },
    {
      "cell_type": "code",
      "metadata": {
        "id": "3iQODEIYTK6i"
      },
      "source": [
        "grupowanie = df_clean.groupby(df_czysty.FLAG)\r\n",
        "df_upadli = grupowanie.get_group('1')\r\n",
        "df_nieupadli = grupowanie.get_group('0')\r\n"
      ],
      "execution_count": 17,
      "outputs": []
    },
    {
      "cell_type": "code",
      "metadata": {
        "colab": {
          "base_uri": "https://localhost:8080/",
          "height": 265
        },
        "id": "oLZD8UC6GoAd",
        "outputId": "5bf2f1ea-2155-4685-e15e-2fb30a1a4f5f"
      },
      "source": [
        "\r\n",
        "plt.hist(df_upadli['EMPLOYEES'], bins = 30)\r\n",
        "plt.show()"
      ],
      "execution_count": 18,
      "outputs": [
        {
          "output_type": "display_data",
          "data": {
            "image/png": "[encoded data removed]",
            "text/plain": [
              "<Figure size 432x288 with 1 Axes>"
            ]
          },
          "metadata": {
            "tags": [],
            "needs_background": "light"
          }
        }
      ]
    },
    {
      "cell_type": "code",
      "metadata": {
        "colab": {
          "base_uri": "https://localhost:8080/",
          "height": 265
        },
        "id": "IvxKLdmzG34T",
        "outputId": "d898beee-e61d-4970-9457-e27520d5b103"
      },
      "source": [
        "\r\n",
        "plt.hist(df_nieupadli['EMPLOYEES'], bins = 30)\r\n",
        "plt.show()"
      ],
      "execution_count": 19,
      "outputs": [
        {
          "output_type": "display_data",
          "data": {
            "image/png": "[encoded data removed]",
            "text/plain": [
              "<Figure size 432x288 with 1 Axes>"
            ]
          },
          "metadata": {
            "tags": [],
            "needs_background": "light"
          }
        }
      ]
    },
    {
      "cell_type": "code",
      "metadata": {
        "colab": {
          "base_uri": "https://localhost:8080/",
          "height": 265
        },
        "id": "eltWiTVrHfnZ",
        "outputId": "7a65fa40-801d-4889-d98d-37c0aba717b1"
      },
      "source": [
        "plt.hist(df_upadli['MARKETING_SPENDING'], bins = 30)\r\n",
        "plt.show()"
      ],
      "execution_count": 20,
      "outputs": [
        {
          "output_type": "display_data",
          "data": {
            "image/png": "[encoded data removed]",
            "text/plain": [
              "<Figure size 432x288 with 1 Axes>"
            ]
          },
          "metadata": {
            "tags": [],
            "needs_background": "light"
          }
        }
      ]
    },
    {
      "cell_type": "code",
      "metadata": {
        "colab": {
          "base_uri": "https://localhost:8080/",
          "height": 265
        },
        "id": "0vpuEo7bHffU",
        "outputId": "25fefe0a-efac-4492-adb9-35f163cfbcbf"
      },
      "source": [
        "plt.hist(df_nieupadli['MARKETING_SPENDING'], bins = 30)\r\n",
        "plt.show()"
      ],
      "execution_count": 21,
      "outputs": [
        {
          "output_type": "display_data",
          "data": {
            "image/png": "[encoded data removed]",
            "text/plain": [
              "<Figure size 432x288 with 1 Axes>"
            ]
          },
          "metadata": {
            "tags": [],
            "needs_background": "light"
          }
        }
      ]
    },
    {
      "cell_type": "code",
      "metadata": {
        "id": "zNltdElJH7f2"
      },
      "source": [
        "grupowanie_sektor = df_clean.groupby(df_czysty_typydanych.SECTOR)\r\n",
        "df_IT = grupowanie_sektor.get_group('IT')\r\n",
        "df_RESTAURANT = grupowanie_sektor.get_group('RESTAURANT')\r\n",
        "df_PUB = grupowanie_sektor.get_group('PUB')\r\n"
      ],
      "execution_count": 22,
      "outputs": []
    },
    {
      "cell_type": "code",
      "metadata": {
        "colab": {
          "base_uri": "https://localhost:8080/",
          "height": 269
        },
        "id": "Yuzv97z6Ijtb",
        "outputId": "5accc53a-80cd-4a79-f457-db2978ddfc4f"
      },
      "source": [
        "plt.hist(df_IT[\"EMPLOYEES\"], bins = 30)\r\n",
        "plt.show()"
      ],
      "execution_count": 23,
      "outputs": [
        {
          "output_type": "display_data",
          "data": {
            "image/png": "[encoded data removed]",
            "text/plain": [
              "<Figure size 432x288 with 1 Axes>"
            ]
          },
          "metadata": {
            "tags": [],
            "needs_background": "light"
          }
        }
      ]
    },
    {
      "cell_type": "code",
      "metadata": {
        "colab": {
          "base_uri": "https://localhost:8080/",
          "height": 302
        },
        "id": "ByourxbgLAL0",
        "outputId": "5c619a94-0755-48a5-9613-0a7473e89fc2"
      },
      "source": [
        "df_IT.loc[df_IT['FLAG']==1].describe()"
      ],
      "execution_count": 24,
      "outputs": [
        {
          "output_type": "execute_result",
          "data": {
            "text/html": [
              "<div>\n",
              "<style scoped>\n",
              "    .dataframe tbody tr th:only-of-type {\n",
              "        vertical-align: middle;\n",
              "    }\n",
              "\n",
              "    .dataframe tbody tr th {\n",
              "        vertical-align: top;\n",
              "    }\n",
              "\n",
              "    .dataframe thead th {\n",
              "        text-align: right;\n",
              "    }\n",
              "</style>\n",
              "<table border=\"1\" class=\"dataframe\">\n",
              "  <thead>\n",
              "    <tr style=\"text-align: right;\">\n",
              "      <th></th>\n",
              "      <th>ID</th>\n",
              "      <th>EMPLOYEES</th>\n",
              "      <th>INCOME</th>\n",
              "      <th>MARKETING_SPENDING</th>\n",
              "      <th>ACC_BEFORE</th>\n",
              "      <th>PWC_PRESS_INDEX</th>\n",
              "      <th>FB_LIKES</th>\n",
              "      <th>TWT_FOLLOWERS</th>\n",
              "      <th>AREA</th>\n",
              "      <th>PWC_EMPLOYEES</th>\n",
              "      <th>CREDIT</th>\n",
              "      <th>FLAG</th>\n",
              "      <th>cluster_label</th>\n",
              "    </tr>\n",
              "  </thead>\n",
              "  <tbody>\n",
              "    <tr>\n",
              "      <th>count</th>\n",
              "      <td>3865.000000</td>\n",
              "      <td>3865.000000</td>\n",
              "      <td>3865.000000</td>\n",
              "      <td>3865.000000</td>\n",
              "      <td>3865.000000</td>\n",
              "      <td>3865.000000</td>\n",
              "      <td>3865.000000</td>\n",
              "      <td>3865.000000</td>\n",
              "      <td>3865.000000</td>\n",
              "      <td>3865.000000</td>\n",
              "      <td>3.865000e+03</td>\n",
              "      <td>3865.0</td>\n",
              "      <td>3865.000000</td>\n",
              "    </tr>\n",
              "    <tr>\n",
              "      <th>mean</th>\n",
              "      <td>5006.973868</td>\n",
              "      <td>18.973351</td>\n",
              "      <td>223115.526779</td>\n",
              "      <td>16321.079690</td>\n",
              "      <td>0.407245</td>\n",
              "      <td>0.042918</td>\n",
              "      <td>1634.346184</td>\n",
              "      <td>326.759897</td>\n",
              "      <td>129.365847</td>\n",
              "      <td>2.554204</td>\n",
              "      <td>4.243235e+05</td>\n",
              "      <td>1.0</td>\n",
              "      <td>1.281242</td>\n",
              "    </tr>\n",
              "    <tr>\n",
              "      <th>std</th>\n",
              "      <td>2904.194017</td>\n",
              "      <td>15.803941</td>\n",
              "      <td>134576.682417</td>\n",
              "      <td>14981.276234</td>\n",
              "      <td>0.491385</td>\n",
              "      <td>3.261681</td>\n",
              "      <td>1497.552626</td>\n",
              "      <td>300.706944</td>\n",
              "      <td>111.148047</td>\n",
              "      <td>2.222654</td>\n",
              "      <td>1.994190e+06</td>\n",
              "      <td>0.0</td>\n",
              "      <td>0.808100</td>\n",
              "    </tr>\n",
              "    <tr>\n",
              "      <th>min</th>\n",
              "      <td>4.000000</td>\n",
              "      <td>2.000000</td>\n",
              "      <td>17300.000000</td>\n",
              "      <td>830.000000</td>\n",
              "      <td>0.000000</td>\n",
              "      <td>-8.414041</td>\n",
              "      <td>91.000000</td>\n",
              "      <td>16.000000</td>\n",
              "      <td>11.000000</td>\n",
              "      <td>0.000000</td>\n",
              "      <td>-8.998000e+03</td>\n",
              "      <td>1.0</td>\n",
              "      <td>0.000000</td>\n",
              "    </tr>\n",
              "    <tr>\n",
              "      <th>25%</th>\n",
              "      <td>2477.000000</td>\n",
              "      <td>5.000000</td>\n",
              "      <td>91100.000000</td>\n",
              "      <td>5950.000000</td>\n",
              "      <td>0.000000</td>\n",
              "      <td>-2.799041</td>\n",
              "      <td>581.000000</td>\n",
              "      <td>119.000000</td>\n",
              "      <td>29.000000</td>\n",
              "      <td>1.000000</td>\n",
              "      <td>0.000000e+00</td>\n",
              "      <td>1.0</td>\n",
              "      <td>1.000000</td>\n",
              "    </tr>\n",
              "    <tr>\n",
              "      <th>50%</th>\n",
              "      <td>4982.000000</td>\n",
              "      <td>18.000000</td>\n",
              "      <td>199995.000000</td>\n",
              "      <td>9917.000000</td>\n",
              "      <td>0.000000</td>\n",
              "      <td>1.307933</td>\n",
              "      <td>972.000000</td>\n",
              "      <td>192.000000</td>\n",
              "      <td>73.000000</td>\n",
              "      <td>2.000000</td>\n",
              "      <td>1.007000e+03</td>\n",
              "      <td>1.0</td>\n",
              "      <td>2.000000</td>\n",
              "    </tr>\n",
              "    <tr>\n",
              "      <th>75%</th>\n",
              "      <td>7540.000000</td>\n",
              "      <td>29.000000</td>\n",
              "      <td>338500.000000</td>\n",
              "      <td>21970.000000</td>\n",
              "      <td>1.000000</td>\n",
              "      <td>2.606159</td>\n",
              "      <td>2227.000000</td>\n",
              "      <td>450.000000</td>\n",
              "      <td>202.000000</td>\n",
              "      <td>4.000000</td>\n",
              "      <td>2.031000e+04</td>\n",
              "      <td>1.0</td>\n",
              "      <td>2.000000</td>\n",
              "    </tr>\n",
              "    <tr>\n",
              "      <th>max</th>\n",
              "      <td>10000.000000</td>\n",
              "      <td>63.000000</td>\n",
              "      <td>600750.000000</td>\n",
              "      <td>68180.000000</td>\n",
              "      <td>1.000000</td>\n",
              "      <td>5.945333</td>\n",
              "      <td>6893.000000</td>\n",
              "      <td>1410.000000</td>\n",
              "      <td>385.000000</td>\n",
              "      <td>15.000000</td>\n",
              "      <td>1.313101e+07</td>\n",
              "      <td>1.0</td>\n",
              "      <td>2.000000</td>\n",
              "    </tr>\n",
              "  </tbody>\n",
              "</table>\n",
              "</div>"
            ],
            "text/plain": [
              "                 ID    EMPLOYEES  ...    FLAG  cluster_label\n",
              "count   3865.000000  3865.000000  ...  3865.0    3865.000000\n",
              "mean    5006.973868    18.973351  ...     1.0       1.281242\n",
              "std     2904.194017    15.803941  ...     0.0       0.808100\n",
              "min        4.000000     2.000000  ...     1.0       0.000000\n",
              "25%     2477.000000     5.000000  ...     1.0       1.000000\n",
              "50%     4982.000000    18.000000  ...     1.0       2.000000\n",
              "75%     7540.000000    29.000000  ...     1.0       2.000000\n",
              "max    10000.000000    63.000000  ...     1.0       2.000000\n",
              "\n",
              "[8 rows x 13 columns]"
            ]
          },
          "metadata": {
            "tags": []
          },
          "execution_count": 24
        }
      ]
    },
    {
      "cell_type": "code",
      "metadata": {
        "colab": {
          "base_uri": "https://localhost:8080/",
          "height": 302
        },
        "id": "WQH49z_6Loa5",
        "outputId": "4c8ab2b3-af82-474d-ce7b-8385af9dd8c5"
      },
      "source": [
        "df_IT.loc[df_IT['FLAG']==0].describe()"
      ],
      "execution_count": 25,
      "outputs": [
        {
          "output_type": "execute_result",
          "data": {
            "text/html": [
              "<div>\n",
              "<style scoped>\n",
              "    .dataframe tbody tr th:only-of-type {\n",
              "        vertical-align: middle;\n",
              "    }\n",
              "\n",
              "    .dataframe tbody tr th {\n",
              "        vertical-align: top;\n",
              "    }\n",
              "\n",
              "    .dataframe thead th {\n",
              "        text-align: right;\n",
              "    }\n",
              "</style>\n",
              "<table border=\"1\" class=\"dataframe\">\n",
              "  <thead>\n",
              "    <tr style=\"text-align: right;\">\n",
              "      <th></th>\n",
              "      <th>ID</th>\n",
              "      <th>EMPLOYEES</th>\n",
              "      <th>INCOME</th>\n",
              "      <th>MARKETING_SPENDING</th>\n",
              "      <th>ACC_BEFORE</th>\n",
              "      <th>PWC_PRESS_INDEX</th>\n",
              "      <th>FB_LIKES</th>\n",
              "      <th>TWT_FOLLOWERS</th>\n",
              "      <th>AREA</th>\n",
              "      <th>PWC_EMPLOYEES</th>\n",
              "      <th>CREDIT</th>\n",
              "      <th>FLAG</th>\n",
              "      <th>cluster_label</th>\n",
              "    </tr>\n",
              "  </thead>\n",
              "  <tbody>\n",
              "    <tr>\n",
              "      <th>count</th>\n",
              "      <td>2359.000000</td>\n",
              "      <td>2359.000000</td>\n",
              "      <td>2359.000000</td>\n",
              "      <td>2359.000000</td>\n",
              "      <td>2359.000000</td>\n",
              "      <td>2359.000000</td>\n",
              "      <td>2359.000000</td>\n",
              "      <td>2359.000000</td>\n",
              "      <td>2359.000000</td>\n",
              "      <td>2359.000000</td>\n",
              "      <td>2.359000e+03</td>\n",
              "      <td>2359.0</td>\n",
              "      <td>2359.000000</td>\n",
              "    </tr>\n",
              "    <tr>\n",
              "      <th>mean</th>\n",
              "      <td>4932.467147</td>\n",
              "      <td>18.047054</td>\n",
              "      <td>200875.054684</td>\n",
              "      <td>6504.406952</td>\n",
              "      <td>0.601102</td>\n",
              "      <td>-3.484925</td>\n",
              "      <td>646.554472</td>\n",
              "      <td>130.038152</td>\n",
              "      <td>115.713862</td>\n",
              "      <td>1.397626</td>\n",
              "      <td>4.483392e+05</td>\n",
              "      <td>0.0</td>\n",
              "      <td>0.326833</td>\n",
              "    </tr>\n",
              "    <tr>\n",
              "      <th>std</th>\n",
              "      <td>2885.113673</td>\n",
              "      <td>18.127643</td>\n",
              "      <td>68791.743325</td>\n",
              "      <td>3534.667725</td>\n",
              "      <td>0.489775</td>\n",
              "      <td>2.621050</td>\n",
              "      <td>355.822596</td>\n",
              "      <td>71.550473</td>\n",
              "      <td>103.727116</td>\n",
              "      <td>1.482586</td>\n",
              "      <td>2.059812e+06</td>\n",
              "      <td>0.0</td>\n",
              "      <td>0.498944</td>\n",
              "    </tr>\n",
              "    <tr>\n",
              "      <th>min</th>\n",
              "      <td>3.000000</td>\n",
              "      <td>2.000000</td>\n",
              "      <td>-900.000000</td>\n",
              "      <td>2910.000000</td>\n",
              "      <td>0.000000</td>\n",
              "      <td>-8.272223</td>\n",
              "      <td>285.000000</td>\n",
              "      <td>61.000000</td>\n",
              "      <td>16.000000</td>\n",
              "      <td>0.000000</td>\n",
              "      <td>-6.999000e+03</td>\n",
              "      <td>0.0</td>\n",
              "      <td>0.000000</td>\n",
              "    </tr>\n",
              "    <tr>\n",
              "      <th>25%</th>\n",
              "      <td>2453.500000</td>\n",
              "      <td>3.000000</td>\n",
              "      <td>199544.500000</td>\n",
              "      <td>4969.500000</td>\n",
              "      <td>0.000000</td>\n",
              "      <td>-5.299301</td>\n",
              "      <td>486.000000</td>\n",
              "      <td>96.000000</td>\n",
              "      <td>67.000000</td>\n",
              "      <td>0.000000</td>\n",
              "      <td>5.575000e+02</td>\n",
              "      <td>0.0</td>\n",
              "      <td>0.000000</td>\n",
              "    </tr>\n",
              "    <tr>\n",
              "      <th>50%</th>\n",
              "      <td>4885.000000</td>\n",
              "      <td>5.000000</td>\n",
              "      <td>199991.000000</td>\n",
              "      <td>5038.000000</td>\n",
              "      <td>1.000000</td>\n",
              "      <td>-4.364587</td>\n",
              "      <td>508.000000</td>\n",
              "      <td>106.000000</td>\n",
              "      <td>71.000000</td>\n",
              "      <td>1.000000</td>\n",
              "      <td>9.480000e+02</td>\n",
              "      <td>0.0</td>\n",
              "      <td>0.000000</td>\n",
              "    </tr>\n",
              "    <tr>\n",
              "      <th>75%</th>\n",
              "      <td>7383.500000</td>\n",
              "      <td>31.000000</td>\n",
              "      <td>200532.000000</td>\n",
              "      <td>7895.500000</td>\n",
              "      <td>1.000000</td>\n",
              "      <td>-2.193564</td>\n",
              "      <td>780.500000</td>\n",
              "      <td>156.000000</td>\n",
              "      <td>76.000000</td>\n",
              "      <td>2.000000</td>\n",
              "      <td>1.317500e+03</td>\n",
              "      <td>0.0</td>\n",
              "      <td>1.000000</td>\n",
              "    </tr>\n",
              "    <tr>\n",
              "      <th>max</th>\n",
              "      <td>9998.000000</td>\n",
              "      <td>61.000000</td>\n",
              "      <td>647000.000000</td>\n",
              "      <td>56080.000000</td>\n",
              "      <td>1.000000</td>\n",
              "      <td>5.643814</td>\n",
              "      <td>5581.000000</td>\n",
              "      <td>1109.000000</td>\n",
              "      <td>387.000000</td>\n",
              "      <td>9.000000</td>\n",
              "      <td>1.212151e+07</td>\n",
              "      <td>0.0</td>\n",
              "      <td>2.000000</td>\n",
              "    </tr>\n",
              "  </tbody>\n",
              "</table>\n",
              "</div>"
            ],
            "text/plain": [
              "                ID    EMPLOYEES  ...    FLAG  cluster_label\n",
              "count  2359.000000  2359.000000  ...  2359.0    2359.000000\n",
              "mean   4932.467147    18.047054  ...     0.0       0.326833\n",
              "std    2885.113673    18.127643  ...     0.0       0.498944\n",
              "min       3.000000     2.000000  ...     0.0       0.000000\n",
              "25%    2453.500000     3.000000  ...     0.0       0.000000\n",
              "50%    4885.000000     5.000000  ...     0.0       0.000000\n",
              "75%    7383.500000    31.000000  ...     0.0       1.000000\n",
              "max    9998.000000    61.000000  ...     0.0       2.000000\n",
              "\n",
              "[8 rows x 13 columns]"
            ]
          },
          "metadata": {
            "tags": []
          },
          "execution_count": 25
        }
      ]
    },
    {
      "cell_type": "code",
      "metadata": {
        "colab": {
          "base_uri": "https://localhost:8080/",
          "height": 302
        },
        "id": "wPkqwCtGMKrr",
        "outputId": "00b7a358-0f3f-47fb-cd0d-9532795b16dd"
      },
      "source": [
        "df_RESTAURANT.loc[df_RESTAURANT['FLAG']==1].describe()"
      ],
      "execution_count": 26,
      "outputs": [
        {
          "output_type": "execute_result",
          "data": {
            "text/html": [
              "<div>\n",
              "<style scoped>\n",
              "    .dataframe tbody tr th:only-of-type {\n",
              "        vertical-align: middle;\n",
              "    }\n",
              "\n",
              "    .dataframe tbody tr th {\n",
              "        vertical-align: top;\n",
              "    }\n",
              "\n",
              "    .dataframe thead th {\n",
              "        text-align: right;\n",
              "    }\n",
              "</style>\n",
              "<table border=\"1\" class=\"dataframe\">\n",
              "  <thead>\n",
              "    <tr style=\"text-align: right;\">\n",
              "      <th></th>\n",
              "      <th>ID</th>\n",
              "      <th>EMPLOYEES</th>\n",
              "      <th>INCOME</th>\n",
              "      <th>MARKETING_SPENDING</th>\n",
              "      <th>ACC_BEFORE</th>\n",
              "      <th>PWC_PRESS_INDEX</th>\n",
              "      <th>FB_LIKES</th>\n",
              "      <th>TWT_FOLLOWERS</th>\n",
              "      <th>AREA</th>\n",
              "      <th>PWC_EMPLOYEES</th>\n",
              "      <th>CREDIT</th>\n",
              "      <th>FLAG</th>\n",
              "      <th>cluster_label</th>\n",
              "    </tr>\n",
              "  </thead>\n",
              "  <tbody>\n",
              "    <tr>\n",
              "      <th>count</th>\n",
              "      <td>444.000000</td>\n",
              "      <td>444.000000</td>\n",
              "      <td>444.000000</td>\n",
              "      <td>444.000000</td>\n",
              "      <td>444.000000</td>\n",
              "      <td>444.000000</td>\n",
              "      <td>444.000000</td>\n",
              "      <td>444.000000</td>\n",
              "      <td>444.000000</td>\n",
              "      <td>444.000000</td>\n",
              "      <td>444.000000</td>\n",
              "      <td>444.0</td>\n",
              "      <td>444.000000</td>\n",
              "    </tr>\n",
              "    <tr>\n",
              "      <th>mean</th>\n",
              "      <td>5148.860360</td>\n",
              "      <td>3.810811</td>\n",
              "      <td>310147.894144</td>\n",
              "      <td>18101.459459</td>\n",
              "      <td>0.101351</td>\n",
              "      <td>2.016113</td>\n",
              "      <td>3624.736486</td>\n",
              "      <td>361.765766</td>\n",
              "      <td>38.957207</td>\n",
              "      <td>0.477477</td>\n",
              "      <td>26339.855856</td>\n",
              "      <td>1.0</td>\n",
              "      <td>1.195946</td>\n",
              "    </tr>\n",
              "    <tr>\n",
              "      <th>std</th>\n",
              "      <td>2842.634489</td>\n",
              "      <td>1.625216</td>\n",
              "      <td>176986.429121</td>\n",
              "      <td>10978.492531</td>\n",
              "      <td>0.302134</td>\n",
              "      <td>13.325889</td>\n",
              "      <td>2201.959589</td>\n",
              "      <td>221.348839</td>\n",
              "      <td>10.513475</td>\n",
              "      <td>0.712315</td>\n",
              "      <td>18507.184676</td>\n",
              "      <td>0.0</td>\n",
              "      <td>0.978266</td>\n",
              "    </tr>\n",
              "    <tr>\n",
              "      <th>min</th>\n",
              "      <td>55.000000</td>\n",
              "      <td>1.000000</td>\n",
              "      <td>59500.000000</td>\n",
              "      <td>7725.000000</td>\n",
              "      <td>0.000000</td>\n",
              "      <td>-35.723762</td>\n",
              "      <td>1440.000000</td>\n",
              "      <td>118.000000</td>\n",
              "      <td>22.000000</td>\n",
              "      <td>0.000000</td>\n",
              "      <td>0.000000</td>\n",
              "      <td>1.0</td>\n",
              "      <td>0.000000</td>\n",
              "    </tr>\n",
              "    <tr>\n",
              "      <th>25%</th>\n",
              "      <td>2735.000000</td>\n",
              "      <td>2.750000</td>\n",
              "      <td>149790.500000</td>\n",
              "      <td>7989.000000</td>\n",
              "      <td>0.000000</td>\n",
              "      <td>-7.692456</td>\n",
              "      <td>1593.750000</td>\n",
              "      <td>157.000000</td>\n",
              "      <td>30.000000</td>\n",
              "      <td>0.000000</td>\n",
              "      <td>16569.750000</td>\n",
              "      <td>1.0</td>\n",
              "      <td>0.000000</td>\n",
              "    </tr>\n",
              "    <tr>\n",
              "      <th>50%</th>\n",
              "      <td>5180.500000</td>\n",
              "      <td>4.000000</td>\n",
              "      <td>200300.000000</td>\n",
              "      <td>8125.500000</td>\n",
              "      <td>0.000000</td>\n",
              "      <td>1.766532</td>\n",
              "      <td>1665.500000</td>\n",
              "      <td>177.000000</td>\n",
              "      <td>34.000000</td>\n",
              "      <td>0.000000</td>\n",
              "      <td>23167.000000</td>\n",
              "      <td>1.0</td>\n",
              "      <td>2.000000</td>\n",
              "    </tr>\n",
              "    <tr>\n",
              "      <th>75%</th>\n",
              "      <td>7579.750000</td>\n",
              "      <td>5.000000</td>\n",
              "      <td>499996.500000</td>\n",
              "      <td>29986.000000</td>\n",
              "      <td>0.000000</td>\n",
              "      <td>11.215746</td>\n",
              "      <td>5998.250000</td>\n",
              "      <td>598.250000</td>\n",
              "      <td>49.000000</td>\n",
              "      <td>1.000000</td>\n",
              "      <td>40005.500000</td>\n",
              "      <td>1.0</td>\n",
              "      <td>2.000000</td>\n",
              "    </tr>\n",
              "    <tr>\n",
              "      <th>max</th>\n",
              "      <td>9985.000000</td>\n",
              "      <td>9.000000</td>\n",
              "      <td>502523.000000</td>\n",
              "      <td>30532.000000</td>\n",
              "      <td>1.000000</td>\n",
              "      <td>59.938575</td>\n",
              "      <td>6262.000000</td>\n",
              "      <td>652.000000</td>\n",
              "      <td>64.000000</td>\n",
              "      <td>4.000000</td>\n",
              "      <td>90213.000000</td>\n",
              "      <td>1.0</td>\n",
              "      <td>2.000000</td>\n",
              "    </tr>\n",
              "  </tbody>\n",
              "</table>\n",
              "</div>"
            ],
            "text/plain": [
              "                ID   EMPLOYEES  ...   FLAG  cluster_label\n",
              "count   444.000000  444.000000  ...  444.0     444.000000\n",
              "mean   5148.860360    3.810811  ...    1.0       1.195946\n",
              "std    2842.634489    1.625216  ...    0.0       0.978266\n",
              "min      55.000000    1.000000  ...    1.0       0.000000\n",
              "25%    2735.000000    2.750000  ...    1.0       0.000000\n",
              "50%    5180.500000    4.000000  ...    1.0       2.000000\n",
              "75%    7579.750000    5.000000  ...    1.0       2.000000\n",
              "max    9985.000000    9.000000  ...    1.0       2.000000\n",
              "\n",
              "[8 rows x 13 columns]"
            ]
          },
          "metadata": {
            "tags": []
          },
          "execution_count": 26
        }
      ]
    },
    {
      "cell_type": "code",
      "metadata": {
        "colab": {
          "base_uri": "https://localhost:8080/",
          "height": 302
        },
        "id": "8zCROi4RMS0E",
        "outputId": "68bb86b9-eea1-4438-aab8-cf998185d08d"
      },
      "source": [
        "df_RESTAURANT.loc[df_RESTAURANT['FLAG']==0].describe()"
      ],
      "execution_count": 27,
      "outputs": [
        {
          "output_type": "execute_result",
          "data": {
            "text/html": [
              "<div>\n",
              "<style scoped>\n",
              "    .dataframe tbody tr th:only-of-type {\n",
              "        vertical-align: middle;\n",
              "    }\n",
              "\n",
              "    .dataframe tbody tr th {\n",
              "        vertical-align: top;\n",
              "    }\n",
              "\n",
              "    .dataframe thead th {\n",
              "        text-align: right;\n",
              "    }\n",
              "</style>\n",
              "<table border=\"1\" class=\"dataframe\">\n",
              "  <thead>\n",
              "    <tr style=\"text-align: right;\">\n",
              "      <th></th>\n",
              "      <th>ID</th>\n",
              "      <th>EMPLOYEES</th>\n",
              "      <th>INCOME</th>\n",
              "      <th>MARKETING_SPENDING</th>\n",
              "      <th>ACC_BEFORE</th>\n",
              "      <th>PWC_PRESS_INDEX</th>\n",
              "      <th>FB_LIKES</th>\n",
              "      <th>TWT_FOLLOWERS</th>\n",
              "      <th>AREA</th>\n",
              "      <th>PWC_EMPLOYEES</th>\n",
              "      <th>CREDIT</th>\n",
              "      <th>FLAG</th>\n",
              "      <th>cluster_label</th>\n",
              "    </tr>\n",
              "  </thead>\n",
              "  <tbody>\n",
              "    <tr>\n",
              "      <th>count</th>\n",
              "      <td>816.000000</td>\n",
              "      <td>816.000000</td>\n",
              "      <td>816.000000</td>\n",
              "      <td>816.000000</td>\n",
              "      <td>816.000000</td>\n",
              "      <td>816.000000</td>\n",
              "      <td>816.000000</td>\n",
              "      <td>816.000000</td>\n",
              "      <td>816.000000</td>\n",
              "      <td>816.000000</td>\n",
              "      <td>816.000000</td>\n",
              "      <td>816.0</td>\n",
              "      <td>816.000000</td>\n",
              "    </tr>\n",
              "    <tr>\n",
              "      <th>mean</th>\n",
              "      <td>5135.560049</td>\n",
              "      <td>3.479167</td>\n",
              "      <td>229273.752451</td>\n",
              "      <td>12982.665441</td>\n",
              "      <td>0.099265</td>\n",
              "      <td>-1.203459</td>\n",
              "      <td>2595.734069</td>\n",
              "      <td>259.838235</td>\n",
              "      <td>34.473039</td>\n",
              "      <td>0.480392</td>\n",
              "      <td>17005.436275</td>\n",
              "      <td>0.0</td>\n",
              "      <td>1.327206</td>\n",
              "    </tr>\n",
              "    <tr>\n",
              "      <th>std</th>\n",
              "      <td>2867.260389</td>\n",
              "      <td>1.568730</td>\n",
              "      <td>147401.462109</td>\n",
              "      <td>9211.341920</td>\n",
              "      <td>0.299200</td>\n",
              "      <td>12.355366</td>\n",
              "      <td>1840.137842</td>\n",
              "      <td>184.412423</td>\n",
              "      <td>9.181697</td>\n",
              "      <td>0.682549</td>\n",
              "      <td>17300.918070</td>\n",
              "      <td>0.0</td>\n",
              "      <td>0.714131</td>\n",
              "    </tr>\n",
              "    <tr>\n",
              "      <th>min</th>\n",
              "      <td>17.000000</td>\n",
              "      <td>1.000000</td>\n",
              "      <td>48800.000000</td>\n",
              "      <td>7719.000000</td>\n",
              "      <td>0.000000</td>\n",
              "      <td>-34.129506</td>\n",
              "      <td>1462.000000</td>\n",
              "      <td>114.000000</td>\n",
              "      <td>21.000000</td>\n",
              "      <td>0.000000</td>\n",
              "      <td>0.000000</td>\n",
              "      <td>0.0</td>\n",
              "      <td>0.000000</td>\n",
              "    </tr>\n",
              "    <tr>\n",
              "      <th>25%</th>\n",
              "      <td>2671.000000</td>\n",
              "      <td>2.000000</td>\n",
              "      <td>149765.000000</td>\n",
              "      <td>7957.500000</td>\n",
              "      <td>0.000000</td>\n",
              "      <td>-9.896535</td>\n",
              "      <td>1582.000000</td>\n",
              "      <td>154.750000</td>\n",
              "      <td>28.000000</td>\n",
              "      <td>0.000000</td>\n",
              "      <td>0.000000</td>\n",
              "      <td>0.0</td>\n",
              "      <td>1.000000</td>\n",
              "    </tr>\n",
              "    <tr>\n",
              "      <th>50%</th>\n",
              "      <td>5177.000000</td>\n",
              "      <td>3.000000</td>\n",
              "      <td>150161.500000</td>\n",
              "      <td>8032.500000</td>\n",
              "      <td>0.000000</td>\n",
              "      <td>-2.044560</td>\n",
              "      <td>1616.000000</td>\n",
              "      <td>166.000000</td>\n",
              "      <td>31.000000</td>\n",
              "      <td>0.000000</td>\n",
              "      <td>16985.000000</td>\n",
              "      <td>0.0</td>\n",
              "      <td>1.000000</td>\n",
              "    </tr>\n",
              "    <tr>\n",
              "      <th>75%</th>\n",
              "      <td>7716.000000</td>\n",
              "      <td>5.000000</td>\n",
              "      <td>190125.000000</td>\n",
              "      <td>8171.750000</td>\n",
              "      <td>0.000000</td>\n",
              "      <td>7.051086</td>\n",
              "      <td>1681.000000</td>\n",
              "      <td>185.000000</td>\n",
              "      <td>36.000000</td>\n",
              "      <td>1.000000</td>\n",
              "      <td>24966.250000</td>\n",
              "      <td>0.0</td>\n",
              "      <td>2.000000</td>\n",
              "    </tr>\n",
              "    <tr>\n",
              "      <th>max</th>\n",
              "      <td>9988.000000</td>\n",
              "      <td>8.000000</td>\n",
              "      <td>501751.000000</td>\n",
              "      <td>30422.000000</td>\n",
              "      <td>1.000000</td>\n",
              "      <td>40.309207</td>\n",
              "      <td>6291.000000</td>\n",
              "      <td>671.000000</td>\n",
              "      <td>63.000000</td>\n",
              "      <td>3.000000</td>\n",
              "      <td>90262.000000</td>\n",
              "      <td>0.0</td>\n",
              "      <td>2.000000</td>\n",
              "    </tr>\n",
              "  </tbody>\n",
              "</table>\n",
              "</div>"
            ],
            "text/plain": [
              "                ID   EMPLOYEES  ...   FLAG  cluster_label\n",
              "count   816.000000  816.000000  ...  816.0     816.000000\n",
              "mean   5135.560049    3.479167  ...    0.0       1.327206\n",
              "std    2867.260389    1.568730  ...    0.0       0.714131\n",
              "min      17.000000    1.000000  ...    0.0       0.000000\n",
              "25%    2671.000000    2.000000  ...    0.0       1.000000\n",
              "50%    5177.000000    3.000000  ...    0.0       1.000000\n",
              "75%    7716.000000    5.000000  ...    0.0       2.000000\n",
              "max    9988.000000    8.000000  ...    0.0       2.000000\n",
              "\n",
              "[8 rows x 13 columns]"
            ]
          },
          "metadata": {
            "tags": []
          },
          "execution_count": 27
        }
      ]
    },
    {
      "cell_type": "code",
      "metadata": {
        "colab": {
          "base_uri": "https://localhost:8080/",
          "height": 302
        },
        "id": "FD7s5vP3MoOi",
        "outputId": "720515d6-85b1-4a9a-dde5-859dc9c368c9"
      },
      "source": [
        "df_PUB.loc[df_PUB['FLAG']==1].describe()"
      ],
      "execution_count": 28,
      "outputs": [
        {
          "output_type": "execute_result",
          "data": {
            "text/html": [
              "<div>\n",
              "<style scoped>\n",
              "    .dataframe tbody tr th:only-of-type {\n",
              "        vertical-align: middle;\n",
              "    }\n",
              "\n",
              "    .dataframe tbody tr th {\n",
              "        vertical-align: top;\n",
              "    }\n",
              "\n",
              "    .dataframe thead th {\n",
              "        text-align: right;\n",
              "    }\n",
              "</style>\n",
              "<table border=\"1\" class=\"dataframe\">\n",
              "  <thead>\n",
              "    <tr style=\"text-align: right;\">\n",
              "      <th></th>\n",
              "      <th>ID</th>\n",
              "      <th>EMPLOYEES</th>\n",
              "      <th>INCOME</th>\n",
              "      <th>MARKETING_SPENDING</th>\n",
              "      <th>ACC_BEFORE</th>\n",
              "      <th>PWC_PRESS_INDEX</th>\n",
              "      <th>FB_LIKES</th>\n",
              "      <th>TWT_FOLLOWERS</th>\n",
              "      <th>AREA</th>\n",
              "      <th>PWC_EMPLOYEES</th>\n",
              "      <th>CREDIT</th>\n",
              "      <th>FLAG</th>\n",
              "      <th>cluster_label</th>\n",
              "    </tr>\n",
              "  </thead>\n",
              "  <tbody>\n",
              "    <tr>\n",
              "      <th>count</th>\n",
              "      <td>495.000000</td>\n",
              "      <td>495.000000</td>\n",
              "      <td>495.000000</td>\n",
              "      <td>495.000000</td>\n",
              "      <td>495.000000</td>\n",
              "      <td>495.000000</td>\n",
              "      <td>495.000000</td>\n",
              "      <td>495.000000</td>\n",
              "      <td>495.000000</td>\n",
              "      <td>495.000000</td>\n",
              "      <td>495.000000</td>\n",
              "      <td>495.0</td>\n",
              "      <td>495.000000</td>\n",
              "    </tr>\n",
              "    <tr>\n",
              "      <th>mean</th>\n",
              "      <td>4802.567677</td>\n",
              "      <td>3.977778</td>\n",
              "      <td>311070.240404</td>\n",
              "      <td>18129.527273</td>\n",
              "      <td>0.092929</td>\n",
              "      <td>2.215916</td>\n",
              "      <td>3628.523232</td>\n",
              "      <td>362.311111</td>\n",
              "      <td>38.997980</td>\n",
              "      <td>0.533333</td>\n",
              "      <td>24761.569697</td>\n",
              "      <td>1.0</td>\n",
              "      <td>1.224242</td>\n",
              "    </tr>\n",
              "    <tr>\n",
              "      <th>std</th>\n",
              "      <td>2851.727091</td>\n",
              "      <td>1.607646</td>\n",
              "      <td>176256.357740</td>\n",
              "      <td>10980.424923</td>\n",
              "      <td>0.290627</td>\n",
              "      <td>12.998429</td>\n",
              "      <td>2193.661765</td>\n",
              "      <td>220.419990</td>\n",
              "      <td>10.712001</td>\n",
              "      <td>0.729927</td>\n",
              "      <td>19480.078569</td>\n",
              "      <td>0.0</td>\n",
              "      <td>0.973442</td>\n",
              "    </tr>\n",
              "    <tr>\n",
              "      <th>min</th>\n",
              "      <td>2.000000</td>\n",
              "      <td>1.000000</td>\n",
              "      <td>69200.000000</td>\n",
              "      <td>7676.000000</td>\n",
              "      <td>0.000000</td>\n",
              "      <td>-33.792568</td>\n",
              "      <td>1448.000000</td>\n",
              "      <td>124.000000</td>\n",
              "      <td>22.000000</td>\n",
              "      <td>0.000000</td>\n",
              "      <td>-148.000000</td>\n",
              "      <td>1.0</td>\n",
              "      <td>0.000000</td>\n",
              "    </tr>\n",
              "    <tr>\n",
              "      <th>25%</th>\n",
              "      <td>2467.500000</td>\n",
              "      <td>3.000000</td>\n",
              "      <td>149803.500000</td>\n",
              "      <td>7990.000000</td>\n",
              "      <td>0.000000</td>\n",
              "      <td>-7.297671</td>\n",
              "      <td>1598.500000</td>\n",
              "      <td>158.000000</td>\n",
              "      <td>30.000000</td>\n",
              "      <td>0.000000</td>\n",
              "      <td>12052.500000</td>\n",
              "      <td>1.0</td>\n",
              "      <td>0.000000</td>\n",
              "    </tr>\n",
              "    <tr>\n",
              "      <th>50%</th>\n",
              "      <td>4625.000000</td>\n",
              "      <td>4.000000</td>\n",
              "      <td>200100.000000</td>\n",
              "      <td>8127.000000</td>\n",
              "      <td>0.000000</td>\n",
              "      <td>2.071012</td>\n",
              "      <td>1678.000000</td>\n",
              "      <td>180.000000</td>\n",
              "      <td>35.000000</td>\n",
              "      <td>0.000000</td>\n",
              "      <td>21104.000000</td>\n",
              "      <td>1.0</td>\n",
              "      <td>2.000000</td>\n",
              "    </tr>\n",
              "    <tr>\n",
              "      <th>75%</th>\n",
              "      <td>7209.000000</td>\n",
              "      <td>5.000000</td>\n",
              "      <td>499960.000000</td>\n",
              "      <td>30001.500000</td>\n",
              "      <td>0.000000</td>\n",
              "      <td>11.655176</td>\n",
              "      <td>5987.000000</td>\n",
              "      <td>596.000000</td>\n",
              "      <td>49.000000</td>\n",
              "      <td>1.000000</td>\n",
              "      <td>35130.000000</td>\n",
              "      <td>1.0</td>\n",
              "      <td>2.000000</td>\n",
              "    </tr>\n",
              "    <tr>\n",
              "      <th>max</th>\n",
              "      <td>9980.000000</td>\n",
              "      <td>8.000000</td>\n",
              "      <td>501948.000000</td>\n",
              "      <td>30447.000000</td>\n",
              "      <td>1.000000</td>\n",
              "      <td>38.735470</td>\n",
              "      <td>6248.000000</td>\n",
              "      <td>653.000000</td>\n",
              "      <td>63.000000</td>\n",
              "      <td>4.000000</td>\n",
              "      <td>100249.000000</td>\n",
              "      <td>1.0</td>\n",
              "      <td>2.000000</td>\n",
              "    </tr>\n",
              "  </tbody>\n",
              "</table>\n",
              "</div>"
            ],
            "text/plain": [
              "                ID   EMPLOYEES  ...   FLAG  cluster_label\n",
              "count   495.000000  495.000000  ...  495.0     495.000000\n",
              "mean   4802.567677    3.977778  ...    1.0       1.224242\n",
              "std    2851.727091    1.607646  ...    0.0       0.973442\n",
              "min       2.000000    1.000000  ...    1.0       0.000000\n",
              "25%    2467.500000    3.000000  ...    1.0       0.000000\n",
              "50%    4625.000000    4.000000  ...    1.0       2.000000\n",
              "75%    7209.000000    5.000000  ...    1.0       2.000000\n",
              "max    9980.000000    8.000000  ...    1.0       2.000000\n",
              "\n",
              "[8 rows x 13 columns]"
            ]
          },
          "metadata": {
            "tags": []
          },
          "execution_count": 28
        }
      ]
    },
    {
      "cell_type": "code",
      "metadata": {
        "colab": {
          "base_uri": "https://localhost:8080/",
          "height": 302
        },
        "id": "uCB9pkf_Mr3v",
        "outputId": "c5218a63-1f52-48ee-e85c-f598d2ebf4b9"
      },
      "source": [
        "df_PUB.loc[df_PUB['FLAG']==0].describe()"
      ],
      "execution_count": 29,
      "outputs": [
        {
          "output_type": "execute_result",
          "data": {
            "text/html": [
              "<div>\n",
              "<style scoped>\n",
              "    .dataframe tbody tr th:only-of-type {\n",
              "        vertical-align: middle;\n",
              "    }\n",
              "\n",
              "    .dataframe tbody tr th {\n",
              "        vertical-align: top;\n",
              "    }\n",
              "\n",
              "    .dataframe thead th {\n",
              "        text-align: right;\n",
              "    }\n",
              "</style>\n",
              "<table border=\"1\" class=\"dataframe\">\n",
              "  <thead>\n",
              "    <tr style=\"text-align: right;\">\n",
              "      <th></th>\n",
              "      <th>ID</th>\n",
              "      <th>EMPLOYEES</th>\n",
              "      <th>INCOME</th>\n",
              "      <th>MARKETING_SPENDING</th>\n",
              "      <th>ACC_BEFORE</th>\n",
              "      <th>PWC_PRESS_INDEX</th>\n",
              "      <th>FB_LIKES</th>\n",
              "      <th>TWT_FOLLOWERS</th>\n",
              "      <th>AREA</th>\n",
              "      <th>PWC_EMPLOYEES</th>\n",
              "      <th>CREDIT</th>\n",
              "      <th>FLAG</th>\n",
              "      <th>cluster_label</th>\n",
              "    </tr>\n",
              "  </thead>\n",
              "  <tbody>\n",
              "    <tr>\n",
              "      <th>count</th>\n",
              "      <td>768.000000</td>\n",
              "      <td>768.000000</td>\n",
              "      <td>768.000000</td>\n",
              "      <td>768.000000</td>\n",
              "      <td>768.000000</td>\n",
              "      <td>768.000000</td>\n",
              "      <td>768.000000</td>\n",
              "      <td>768.000000</td>\n",
              "      <td>768.000000</td>\n",
              "      <td>768.000000</td>\n",
              "      <td>768.000000</td>\n",
              "      <td>768.0</td>\n",
              "      <td>768.000000</td>\n",
              "    </tr>\n",
              "    <tr>\n",
              "      <th>mean</th>\n",
              "      <td>4979.455729</td>\n",
              "      <td>3.432292</td>\n",
              "      <td>229069.397135</td>\n",
              "      <td>12949.100260</td>\n",
              "      <td>0.100260</td>\n",
              "      <td>-0.625267</td>\n",
              "      <td>2590.157552</td>\n",
              "      <td>258.864583</td>\n",
              "      <td>34.802083</td>\n",
              "      <td>0.529948</td>\n",
              "      <td>17436.523438</td>\n",
              "      <td>0.0</td>\n",
              "      <td>1.321615</td>\n",
              "    </tr>\n",
              "    <tr>\n",
              "      <th>std</th>\n",
              "      <td>2873.912733</td>\n",
              "      <td>1.585659</td>\n",
              "      <td>147065.560804</td>\n",
              "      <td>9190.845423</td>\n",
              "      <td>0.300543</td>\n",
              "      <td>12.603895</td>\n",
              "      <td>1840.264764</td>\n",
              "      <td>183.832997</td>\n",
              "      <td>9.484078</td>\n",
              "      <td>0.723341</td>\n",
              "      <td>17596.051144</td>\n",
              "      <td>0.0</td>\n",
              "      <td>0.716322</td>\n",
              "    </tr>\n",
              "    <tr>\n",
              "      <th>min</th>\n",
              "      <td>1.000000</td>\n",
              "      <td>1.000000</td>\n",
              "      <td>69900.000000</td>\n",
              "      <td>7659.000000</td>\n",
              "      <td>0.000000</td>\n",
              "      <td>-35.800223</td>\n",
              "      <td>1467.000000</td>\n",
              "      <td>124.000000</td>\n",
              "      <td>23.000000</td>\n",
              "      <td>0.000000</td>\n",
              "      <td>0.000000</td>\n",
              "      <td>0.0</td>\n",
              "      <td>0.000000</td>\n",
              "    </tr>\n",
              "    <tr>\n",
              "      <th>25%</th>\n",
              "      <td>2385.500000</td>\n",
              "      <td>2.000000</td>\n",
              "      <td>149825.750000</td>\n",
              "      <td>7959.000000</td>\n",
              "      <td>0.000000</td>\n",
              "      <td>-9.012018</td>\n",
              "      <td>1578.000000</td>\n",
              "      <td>154.000000</td>\n",
              "      <td>28.000000</td>\n",
              "      <td>0.000000</td>\n",
              "      <td>0.000000</td>\n",
              "      <td>0.0</td>\n",
              "      <td>1.000000</td>\n",
              "    </tr>\n",
              "    <tr>\n",
              "      <th>50%</th>\n",
              "      <td>5162.000000</td>\n",
              "      <td>3.000000</td>\n",
              "      <td>150196.000000</td>\n",
              "      <td>8030.000000</td>\n",
              "      <td>0.000000</td>\n",
              "      <td>-1.302003</td>\n",
              "      <td>1615.000000</td>\n",
              "      <td>165.000000</td>\n",
              "      <td>31.000000</td>\n",
              "      <td>0.000000</td>\n",
              "      <td>17960.000000</td>\n",
              "      <td>0.0</td>\n",
              "      <td>1.000000</td>\n",
              "    </tr>\n",
              "    <tr>\n",
              "      <th>75%</th>\n",
              "      <td>7294.250000</td>\n",
              "      <td>4.000000</td>\n",
              "      <td>190325.000000</td>\n",
              "      <td>8157.250000</td>\n",
              "      <td>0.000000</td>\n",
              "      <td>7.445811</td>\n",
              "      <td>1677.500000</td>\n",
              "      <td>184.000000</td>\n",
              "      <td>37.000000</td>\n",
              "      <td>1.000000</td>\n",
              "      <td>24961.000000</td>\n",
              "      <td>0.0</td>\n",
              "      <td>2.000000</td>\n",
              "    </tr>\n",
              "    <tr>\n",
              "      <th>max</th>\n",
              "      <td>9993.000000</td>\n",
              "      <td>9.000000</td>\n",
              "      <td>501745.000000</td>\n",
              "      <td>30409.000000</td>\n",
              "      <td>1.000000</td>\n",
              "      <td>33.960305</td>\n",
              "      <td>6197.000000</td>\n",
              "      <td>657.000000</td>\n",
              "      <td>62.000000</td>\n",
              "      <td>4.000000</td>\n",
              "      <td>95260.000000</td>\n",
              "      <td>0.0</td>\n",
              "      <td>2.000000</td>\n",
              "    </tr>\n",
              "  </tbody>\n",
              "</table>\n",
              "</div>"
            ],
            "text/plain": [
              "                ID   EMPLOYEES  ...   FLAG  cluster_label\n",
              "count   768.000000  768.000000  ...  768.0     768.000000\n",
              "mean   4979.455729    3.432292  ...    0.0       1.321615\n",
              "std    2873.912733    1.585659  ...    0.0       0.716322\n",
              "min       1.000000    1.000000  ...    0.0       0.000000\n",
              "25%    2385.500000    2.000000  ...    0.0       1.000000\n",
              "50%    5162.000000    3.000000  ...    0.0       1.000000\n",
              "75%    7294.250000    4.000000  ...    0.0       2.000000\n",
              "max    9993.000000    9.000000  ...    0.0       2.000000\n",
              "\n",
              "[8 rows x 13 columns]"
            ]
          },
          "metadata": {
            "tags": []
          },
          "execution_count": 29
        }
      ]
    },
    {
      "cell_type": "code",
      "metadata": {
        "colab": {
          "base_uri": "https://localhost:8080/",
          "height": 265
        },
        "id": "9q3Rd-IzJSCo",
        "outputId": "9db8233f-349f-4878-a754-7ce1810cf120"
      },
      "source": [
        "plt.hist(df_RESTAURANT[\"EMPLOYEES\"], bins = 30)\r\n",
        "plt.show()"
      ],
      "execution_count": 30,
      "outputs": [
        {
          "output_type": "display_data",
          "data": {
            "image/png": "[encoded data removed]",
            "text/plain": [
              "<Figure size 432x288 with 1 Axes>"
            ]
          },
          "metadata": {
            "tags": [],
            "needs_background": "light"
          }
        }
      ]
    },
    {
      "cell_type": "code",
      "metadata": {
        "colab": {
          "base_uri": "https://localhost:8080/",
          "height": 265
        },
        "id": "g7-eEfjmRLCd",
        "outputId": "fde5e437-d2fa-4f60-f28b-22ee7097e602"
      },
      "source": [
        "from matplotlib import pyplot\r\n",
        "#bins = np.linspace(-10, 10, 100)\r\n",
        "pyplot.hist(df_nieupadli['EMPLOYEES'],bins=30, alpha=0.5, label='nieupadli')\r\n",
        "pyplot.hist(df_upadli['EMPLOYEES'],bins=30, alpha=0.5, label='upadli')\r\n",
        "pyplot.legend(loc='upper right')\r\n",
        "pyplot.show()"
      ],
      "execution_count": 31,
      "outputs": [
        {
          "output_type": "display_data",
          "data": {
            "image/png": "[encoded data removed]",
            "text/plain": [
              "<Figure size 432x288 with 1 Axes>"
            ]
          },
          "metadata": {
            "tags": [],
            "needs_background": "light"
          }
        }
      ]
    },
    {
      "cell_type": "code",
      "metadata": {
        "colab": {
          "base_uri": "https://localhost:8080/",
          "height": 265
        },
        "id": "2_sJ_fcfR54F",
        "outputId": "489d4efc-3dfc-42d6-c457-717874290e40"
      },
      "source": [
        "from matplotlib import pyplot\r\n",
        "#bins = np.linspace(-10, 10, 100)\r\n",
        "pyplot.hist(df_nieupadli['MARKETING_SPENDING'],bins=30, alpha=0.5, label='nieupadli')\r\n",
        "pyplot.hist(df_upadli['MARKETING_SPENDING'],bins=30, alpha=0.5, label='upadli')\r\n",
        "pyplot.legend(loc='upper right')\r\n",
        "pyplot.show()"
      ],
      "execution_count": 32,
      "outputs": [
        {
          "output_type": "display_data",
          "data": {
            "image/png": "[encoded data removed]",
            "text/plain": [
              "<Figure size 432x288 with 1 Axes>"
            ]
          },
          "metadata": {
            "tags": [],
            "needs_background": "light"
          }
        }
      ]
    },
    {
      "cell_type": "code",
      "metadata": {
        "colab": {
          "base_uri": "https://localhost:8080/"
        },
        "id": "mUbXgdS5Tvvv",
        "outputId": "e1c25408-4591-4531-9e41-59bbe21ebdad"
      },
      "source": [
        "df_upadli.shape"
      ],
      "execution_count": 33,
      "outputs": [
        {
          "output_type": "execute_result",
          "data": {
            "text/plain": [
              "(5261, 19)"
            ]
          },
          "metadata": {
            "tags": []
          },
          "execution_count": 33
        }
      ]
    },
    {
      "cell_type": "code",
      "metadata": {
        "colab": {
          "base_uri": "https://localhost:8080/"
        },
        "id": "IcBgU3sXT9vg",
        "outputId": "f0f9c774-7c31-4627-e47c-74328ad1d163"
      },
      "source": [
        "\r\n",
        "df_nieupadli.shape"
      ],
      "execution_count": 34,
      "outputs": [
        {
          "output_type": "execute_result",
          "data": {
            "text/plain": [
              "(4739, 19)"
            ]
          },
          "metadata": {
            "tags": []
          },
          "execution_count": 34
        }
      ]
    },
    {
      "cell_type": "code",
      "metadata": {
        "colab": {
          "base_uri": "https://localhost:8080/",
          "height": 302
        },
        "id": "gjRo-QbR0Cfd",
        "outputId": "5c13390c-814b-4254-c555-603739cc412a"
      },
      "source": [
        "df_upadli.describe()"
      ],
      "execution_count": 35,
      "outputs": [
        {
          "output_type": "execute_result",
          "data": {
            "text/html": [
              "<div>\n",
              "<style scoped>\n",
              "    .dataframe tbody tr th:only-of-type {\n",
              "        vertical-align: middle;\n",
              "    }\n",
              "\n",
              "    .dataframe tbody tr th {\n",
              "        vertical-align: top;\n",
              "    }\n",
              "\n",
              "    .dataframe thead th {\n",
              "        text-align: right;\n",
              "    }\n",
              "</style>\n",
              "<table border=\"1\" class=\"dataframe\">\n",
              "  <thead>\n",
              "    <tr style=\"text-align: right;\">\n",
              "      <th></th>\n",
              "      <th>ID</th>\n",
              "      <th>EMPLOYEES</th>\n",
              "      <th>INCOME</th>\n",
              "      <th>MARKETING_SPENDING</th>\n",
              "      <th>ACC_BEFORE</th>\n",
              "      <th>PWC_PRESS_INDEX</th>\n",
              "      <th>FB_LIKES</th>\n",
              "      <th>TWT_FOLLOWERS</th>\n",
              "      <th>AREA</th>\n",
              "      <th>PWC_EMPLOYEES</th>\n",
              "      <th>CREDIT</th>\n",
              "      <th>FLAG</th>\n",
              "      <th>cluster_label</th>\n",
              "    </tr>\n",
              "  </thead>\n",
              "  <tbody>\n",
              "    <tr>\n",
              "      <th>count</th>\n",
              "      <td>5261.000000</td>\n",
              "      <td>5261.00000</td>\n",
              "      <td>5261.000000</td>\n",
              "      <td>5261.000000</td>\n",
              "      <td>5261.000000</td>\n",
              "      <td>5261.000000</td>\n",
              "      <td>5261.000000</td>\n",
              "      <td>5261.000000</td>\n",
              "      <td>5261.000000</td>\n",
              "      <td>5261.000000</td>\n",
              "      <td>5.261000e+03</td>\n",
              "      <td>5261.0</td>\n",
              "      <td>5261.000000</td>\n",
              "    </tr>\n",
              "    <tr>\n",
              "      <th>mean</th>\n",
              "      <td>4995.868086</td>\n",
              "      <td>14.97453</td>\n",
              "      <td>247156.495913</td>\n",
              "      <td>16851.800418</td>\n",
              "      <td>0.323893</td>\n",
              "      <td>0.712394</td>\n",
              "      <td>2173.782931</td>\n",
              "      <td>337.284547</td>\n",
              "      <td>105.409428</td>\n",
              "      <td>2.009504</td>\n",
              "      <td>3.186022e+05</td>\n",
              "      <td>1.0</td>\n",
              "      <td>1.265349</td>\n",
              "    </tr>\n",
              "    <tr>\n",
              "      <th>std</th>\n",
              "      <td>2886.650366</td>\n",
              "      <td>15.11422</td>\n",
              "      <td>152273.836683</td>\n",
              "      <td>14058.789007</td>\n",
              "      <td>0.468004</td>\n",
              "      <td>7.467961</td>\n",
              "      <td>1932.618277</td>\n",
              "      <td>282.212765</td>\n",
              "      <td>103.410524</td>\n",
              "      <td>2.142612</td>\n",
              "      <td>1.718256e+06</td>\n",
              "      <td>0.0</td>\n",
              "      <td>0.855042</td>\n",
              "    </tr>\n",
              "    <tr>\n",
              "      <th>min</th>\n",
              "      <td>2.000000</td>\n",
              "      <td>1.00000</td>\n",
              "      <td>17300.000000</td>\n",
              "      <td>830.000000</td>\n",
              "      <td>0.000000</td>\n",
              "      <td>-38.793253</td>\n",
              "      <td>91.000000</td>\n",
              "      <td>16.000000</td>\n",
              "      <td>11.000000</td>\n",
              "      <td>0.000000</td>\n",
              "      <td>-9.830000e+03</td>\n",
              "      <td>1.0</td>\n",
              "      <td>0.000000</td>\n",
              "    </tr>\n",
              "    <tr>\n",
              "      <th>25%</th>\n",
              "      <td>2517.000000</td>\n",
              "      <td>4.00000</td>\n",
              "      <td>111200.000000</td>\n",
              "      <td>7794.000000</td>\n",
              "      <td>0.000000</td>\n",
              "      <td>-3.473297</td>\n",
              "      <td>776.000000</td>\n",
              "      <td>146.000000</td>\n",
              "      <td>30.000000</td>\n",
              "      <td>0.000000</td>\n",
              "      <td>0.000000e+00</td>\n",
              "      <td>1.0</td>\n",
              "      <td>0.000000</td>\n",
              "    </tr>\n",
              "    <tr>\n",
              "      <th>50%</th>\n",
              "      <td>4947.000000</td>\n",
              "      <td>6.00000</td>\n",
              "      <td>200011.000000</td>\n",
              "      <td>9887.000000</td>\n",
              "      <td>0.000000</td>\n",
              "      <td>1.386690</td>\n",
              "      <td>1197.000000</td>\n",
              "      <td>190.000000</td>\n",
              "      <td>66.000000</td>\n",
              "      <td>1.000000</td>\n",
              "      <td>2.005000e+03</td>\n",
              "      <td>1.0</td>\n",
              "      <td>2.000000</td>\n",
              "    </tr>\n",
              "    <tr>\n",
              "      <th>75%</th>\n",
              "      <td>7479.000000</td>\n",
              "      <td>23.00000</td>\n",
              "      <td>379500.000000</td>\n",
              "      <td>29913.000000</td>\n",
              "      <td>1.000000</td>\n",
              "      <td>3.012582</td>\n",
              "      <td>3610.000000</td>\n",
              "      <td>589.000000</td>\n",
              "      <td>191.000000</td>\n",
              "      <td>3.000000</td>\n",
              "      <td>3.011800e+04</td>\n",
              "      <td>1.0</td>\n",
              "      <td>2.000000</td>\n",
              "    </tr>\n",
              "    <tr>\n",
              "      <th>max</th>\n",
              "      <td>10000.000000</td>\n",
              "      <td>63.00000</td>\n",
              "      <td>600750.000000</td>\n",
              "      <td>68180.000000</td>\n",
              "      <td>1.000000</td>\n",
              "      <td>59.938575</td>\n",
              "      <td>6893.000000</td>\n",
              "      <td>1410.000000</td>\n",
              "      <td>385.000000</td>\n",
              "      <td>15.000000</td>\n",
              "      <td>1.313101e+07</td>\n",
              "      <td>1.0</td>\n",
              "      <td>2.000000</td>\n",
              "    </tr>\n",
              "  </tbody>\n",
              "</table>\n",
              "</div>"
            ],
            "text/plain": [
              "                 ID   EMPLOYEES  ...    FLAG  cluster_label\n",
              "count   5261.000000  5261.00000  ...  5261.0    5261.000000\n",
              "mean    4995.868086    14.97453  ...     1.0       1.265349\n",
              "std     2886.650366    15.11422  ...     0.0       0.855042\n",
              "min        2.000000     1.00000  ...     1.0       0.000000\n",
              "25%     2517.000000     4.00000  ...     1.0       0.000000\n",
              "50%     4947.000000     6.00000  ...     1.0       2.000000\n",
              "75%     7479.000000    23.00000  ...     1.0       2.000000\n",
              "max    10000.000000    63.00000  ...     1.0       2.000000\n",
              "\n",
              "[8 rows x 13 columns]"
            ]
          },
          "metadata": {
            "tags": []
          },
          "execution_count": 35
        }
      ]
    },
    {
      "cell_type": "code",
      "metadata": {
        "colab": {
          "base_uri": "https://localhost:8080/",
          "height": 302
        },
        "id": "P6YxoMuj0JEl",
        "outputId": "e9926be8-2b5b-4aad-ad9d-65b0fdea6251"
      },
      "source": [
        "df_nieupadli.describe()"
      ],
      "execution_count": 36,
      "outputs": [
        {
          "output_type": "execute_result",
          "data": {
            "text/html": [
              "<div>\n",
              "<style scoped>\n",
              "    .dataframe tbody tr th:only-of-type {\n",
              "        vertical-align: middle;\n",
              "    }\n",
              "\n",
              "    .dataframe tbody tr th {\n",
              "        vertical-align: top;\n",
              "    }\n",
              "\n",
              "    .dataframe thead th {\n",
              "        text-align: right;\n",
              "    }\n",
              "</style>\n",
              "<table border=\"1\" class=\"dataframe\">\n",
              "  <thead>\n",
              "    <tr style=\"text-align: right;\">\n",
              "      <th></th>\n",
              "      <th>ID</th>\n",
              "      <th>EMPLOYEES</th>\n",
              "      <th>INCOME</th>\n",
              "      <th>MARKETING_SPENDING</th>\n",
              "      <th>ACC_BEFORE</th>\n",
              "      <th>PWC_PRESS_INDEX</th>\n",
              "      <th>FB_LIKES</th>\n",
              "      <th>TWT_FOLLOWERS</th>\n",
              "      <th>AREA</th>\n",
              "      <th>PWC_EMPLOYEES</th>\n",
              "      <th>CREDIT</th>\n",
              "      <th>FLAG</th>\n",
              "      <th>cluster_label</th>\n",
              "    </tr>\n",
              "  </thead>\n",
              "  <tbody>\n",
              "    <tr>\n",
              "      <th>count</th>\n",
              "      <td>4739.000000</td>\n",
              "      <td>4739.000000</td>\n",
              "      <td>4739.000000</td>\n",
              "      <td>4739.000000</td>\n",
              "      <td>4739.000000</td>\n",
              "      <td>4739.000000</td>\n",
              "      <td>4739.000000</td>\n",
              "      <td>4739.000000</td>\n",
              "      <td>4739.000000</td>\n",
              "      <td>4739.000000</td>\n",
              "      <td>4.739000e+03</td>\n",
              "      <td>4739.0</td>\n",
              "      <td>4739.000000</td>\n",
              "    </tr>\n",
              "    <tr>\n",
              "      <th>mean</th>\n",
              "      <td>5005.642119</td>\n",
              "      <td>10.715763</td>\n",
              "      <td>216109.607512</td>\n",
              "      <td>9811.358936</td>\n",
              "      <td>0.350285</td>\n",
              "      <td>-2.227887</td>\n",
              "      <td>1637.201097</td>\n",
              "      <td>196.309559</td>\n",
              "      <td>75.034184</td>\n",
              "      <td>0.939650</td>\n",
              "      <td>2.319640e+05</td>\n",
              "      <td>0.0</td>\n",
              "      <td>0.831821</td>\n",
              "    </tr>\n",
              "    <tr>\n",
              "      <th>std</th>\n",
              "      <td>2887.463900</td>\n",
              "      <td>14.767425</td>\n",
              "      <td>116751.374092</td>\n",
              "      <td>7765.668943</td>\n",
              "      <td>0.477109</td>\n",
              "      <td>8.997429</td>\n",
              "      <td>1664.119253</td>\n",
              "      <td>156.176159</td>\n",
              "      <td>83.898425</td>\n",
              "      <td>1.241496</td>\n",
              "      <td>1.469057e+06</td>\n",
              "      <td>0.0</td>\n",
              "      <td>0.793462</td>\n",
              "    </tr>\n",
              "    <tr>\n",
              "      <th>min</th>\n",
              "      <td>1.000000</td>\n",
              "      <td>1.000000</td>\n",
              "      <td>-900.000000</td>\n",
              "      <td>2910.000000</td>\n",
              "      <td>0.000000</td>\n",
              "      <td>-35.800223</td>\n",
              "      <td>285.000000</td>\n",
              "      <td>61.000000</td>\n",
              "      <td>16.000000</td>\n",
              "      <td>0.000000</td>\n",
              "      <td>-6.999000e+03</td>\n",
              "      <td>0.0</td>\n",
              "      <td>0.000000</td>\n",
              "    </tr>\n",
              "    <tr>\n",
              "      <th>25%</th>\n",
              "      <td>2481.000000</td>\n",
              "      <td>3.000000</td>\n",
              "      <td>149972.500000</td>\n",
              "      <td>5039.000000</td>\n",
              "      <td>0.000000</td>\n",
              "      <td>-5.801258</td>\n",
              "      <td>508.000000</td>\n",
              "      <td>106.000000</td>\n",
              "      <td>31.000000</td>\n",
              "      <td>0.000000</td>\n",
              "      <td>0.000000e+00</td>\n",
              "      <td>0.0</td>\n",
              "      <td>0.000000</td>\n",
              "    </tr>\n",
              "    <tr>\n",
              "      <th>50%</th>\n",
              "      <td>5068.000000</td>\n",
              "      <td>4.000000</td>\n",
              "      <td>199540.000000</td>\n",
              "      <td>7956.000000</td>\n",
              "      <td>0.000000</td>\n",
              "      <td>-4.014559</td>\n",
              "      <td>1504.000000</td>\n",
              "      <td>154.000000</td>\n",
              "      <td>57.000000</td>\n",
              "      <td>1.000000</td>\n",
              "      <td>1.104000e+03</td>\n",
              "      <td>0.0</td>\n",
              "      <td>1.000000</td>\n",
              "    </tr>\n",
              "    <tr>\n",
              "      <th>75%</th>\n",
              "      <td>7522.000000</td>\n",
              "      <td>6.000000</td>\n",
              "      <td>200516.500000</td>\n",
              "      <td>8142.000000</td>\n",
              "      <td>1.000000</td>\n",
              "      <td>1.204708</td>\n",
              "      <td>1619.000000</td>\n",
              "      <td>177.000000</td>\n",
              "      <td>71.000000</td>\n",
              "      <td>1.000000</td>\n",
              "      <td>2.004200e+04</td>\n",
              "      <td>0.0</td>\n",
              "      <td>1.000000</td>\n",
              "    </tr>\n",
              "    <tr>\n",
              "      <th>max</th>\n",
              "      <td>9998.000000</td>\n",
              "      <td>61.000000</td>\n",
              "      <td>647000.000000</td>\n",
              "      <td>56080.000000</td>\n",
              "      <td>1.000000</td>\n",
              "      <td>40.309207</td>\n",
              "      <td>6291.000000</td>\n",
              "      <td>1109.000000</td>\n",
              "      <td>387.000000</td>\n",
              "      <td>9.000000</td>\n",
              "      <td>1.212151e+07</td>\n",
              "      <td>0.0</td>\n",
              "      <td>2.000000</td>\n",
              "    </tr>\n",
              "  </tbody>\n",
              "</table>\n",
              "</div>"
            ],
            "text/plain": [
              "                ID    EMPLOYEES  ...    FLAG  cluster_label\n",
              "count  4739.000000  4739.000000  ...  4739.0    4739.000000\n",
              "mean   5005.642119    10.715763  ...     0.0       0.831821\n",
              "std    2887.463900    14.767425  ...     0.0       0.793462\n",
              "min       1.000000     1.000000  ...     0.0       0.000000\n",
              "25%    2481.000000     3.000000  ...     0.0       0.000000\n",
              "50%    5068.000000     4.000000  ...     0.0       1.000000\n",
              "75%    7522.000000     6.000000  ...     0.0       1.000000\n",
              "max    9998.000000    61.000000  ...     0.0       2.000000\n",
              "\n",
              "[8 rows x 13 columns]"
            ]
          },
          "metadata": {
            "tags": []
          },
          "execution_count": 36
        }
      ]
    },
    {
      "cell_type": "markdown",
      "metadata": {
        "id": "-I67zV0N0Yxr"
      },
      "source": [
        "Sprwadzam brakujące dane"
      ]
    },
    {
      "cell_type": "code",
      "metadata": {
        "colab": {
          "base_uri": "https://localhost:8080/",
          "height": 388
        },
        "id": "IFGaBqsgZmMd",
        "outputId": "5c8b467b-56af-43cc-d655-d1179c0a35de"
      },
      "source": [
        "sns.heatmap(df_clean.isnull(), yticklabels = False, cbar = False, cmap = 'viridis')"
      ],
      "execution_count": 37,
      "outputs": [
        {
          "output_type": "execute_result",
          "data": {
            "text/plain": [
              "<matplotlib.axes._subplots.AxesSubplot at 0x7f523806d780>"
            ]
          },
          "metadata": {
            "tags": []
          },
          "execution_count": 37
        },
        {
          "output_type": "display_data",
          "data": {
            "image/png": "[encoded data removed]",
            "text/plain": [
              "<Figure size 432x288 with 1 Axes>"
            ]
          },
          "metadata": {
            "tags": [],
            "needs_background": "light"
          }
        }
      ]
    },
    {
      "cell_type": "markdown",
      "metadata": {
        "id": "ljPrdTmp1MCZ"
      },
      "source": [
        "Nie ma braków  w danych"
      ]
    },
    {
      "cell_type": "code",
      "metadata": {
        "colab": {
          "base_uri": "https://localhost:8080/"
        },
        "id": "-IpXxA6-5E_V",
        "outputId": "c7968ca7-ffd6-4dac-de21-845ae3c612d0"
      },
      "source": [
        "df_clean['SECTOR'].value_counts()"
      ],
      "execution_count": 38,
      "outputs": [
        {
          "output_type": "execute_result",
          "data": {
            "text/plain": [
              "IT            6224\n",
              "PUB           1263\n",
              "RESTAURANT    1260\n",
              "CAFE          1253\n",
              "Name: SECTOR, dtype: int64"
            ]
          },
          "metadata": {
            "tags": []
          },
          "execution_count": 38
        }
      ]
    },
    {
      "cell_type": "code",
      "metadata": {
        "colab": {
          "base_uri": "https://localhost:8080/"
        },
        "id": "w49hx0yH5J5q",
        "outputId": "9e924217-7db4-400a-cb80-859fa8f0de9a"
      },
      "source": [
        "df_clean['EXP_CEO'].value_counts()"
      ],
      "execution_count": 39,
      "outputs": [
        {
          "output_type": "execute_result",
          "data": {
            "text/plain": [
              "NA    4397\n",
              "6      929\n",
              "5      873\n",
              "4      728\n",
              "7      722\n",
              "8      519\n",
              "3      415\n",
              "9      255\n",
              "2      186\n",
              "10     173\n",
              "11     173\n",
              "13     158\n",
              "12     153\n",
              "14     113\n",
              "1       89\n",
              "15      72\n",
              "16      26\n",
              "17      11\n",
              "18       5\n",
              "20       2\n",
              "21       1\n",
              "Name: EXP_CEO, dtype: int64"
            ]
          },
          "metadata": {
            "tags": []
          },
          "execution_count": 39
        }
      ]
    },
    {
      "cell_type": "code",
      "metadata": {
        "colab": {
          "base_uri": "https://localhost:8080/"
        },
        "id": "uVc8nJTP5acK",
        "outputId": "ee45a89f-be6c-48f1-9d09-65a64fdf8ea7"
      },
      "source": [
        "df_clean['EMPLOYEES'].value_counts().head()"
      ],
      "execution_count": 40,
      "outputs": [
        {
          "output_type": "execute_result",
          "data": {
            "text/plain": [
              "4    1560\n",
              "3    1443\n",
              "2    1214\n",
              "5    1173\n",
              "6     650\n",
              "Name: EMPLOYEES, dtype: int64"
            ]
          },
          "metadata": {
            "tags": []
          },
          "execution_count": 40
        }
      ]
    },
    {
      "cell_type": "code",
      "metadata": {
        "colab": {
          "base_uri": "https://localhost:8080/"
        },
        "id": "CMkKPen25_Fu",
        "outputId": "362ef64d-acf9-4aad-fa93-822b5a042645"
      },
      "source": [
        "df_clean['ACC_BEFORE'].value_counts()"
      ],
      "execution_count": 41,
      "outputs": [
        {
          "output_type": "execute_result",
          "data": {
            "text/plain": [
              "0    6636\n",
              "1    3364\n",
              "Name: ACC_BEFORE, dtype: int64"
            ]
          },
          "metadata": {
            "tags": []
          },
          "execution_count": 41
        }
      ]
    },
    {
      "cell_type": "code",
      "metadata": {
        "colab": {
          "base_uri": "https://localhost:8080/"
        },
        "id": "4-ZNz2mm6F8m",
        "outputId": "b11aadfc-232a-4484-ba94-e7facbb4e802"
      },
      "source": [
        "df_clean['YEAR_FOUNDED'].value_counts()"
      ],
      "execution_count": 42,
      "outputs": [
        {
          "output_type": "execute_result",
          "data": {
            "text/plain": [
              "2012    937\n",
              "2013    925\n",
              "2011    807\n",
              "2006    721\n",
              "2008    691\n",
              "2007    684\n",
              "2010    670\n",
              "2009    655\n",
              "2005    640\n",
              "2004    633\n",
              "2003    529\n",
              "2002    477\n",
              "2001    422\n",
              "2000    327\n",
              "1999    252\n",
              "2014    193\n",
              "1998    168\n",
              "1997    123\n",
              "1996     58\n",
              "1995     49\n",
              "1994     18\n",
              "1993     10\n",
              "1992      6\n",
              "1991      3\n",
              "1990      1\n",
              "1989      1\n",
              "Name: YEAR_FOUNDED, dtype: int64"
            ]
          },
          "metadata": {
            "tags": []
          },
          "execution_count": 42
        }
      ]
    },
    {
      "cell_type": "code",
      "metadata": {
        "colab": {
          "base_uri": "https://localhost:8080/"
        },
        "id": "iWr2ftViKThy",
        "outputId": "eb4545bc-430f-41d0-a954-20158a5cabfa"
      },
      "source": [
        "type(df_clean['EXP_CEO'])"
      ],
      "execution_count": 43,
      "outputs": [
        {
          "output_type": "execute_result",
          "data": {
            "text/plain": [
              "pandas.core.series.Series"
            ]
          },
          "metadata": {
            "tags": []
          },
          "execution_count": 43
        }
      ]
    },
    {
      "cell_type": "markdown",
      "metadata": {
        "id": "mzhh3GdVR8KQ"
      },
      "source": [
        "Sprawdzam różnice między grupami (ttest i wskaźnik siły efektu)"
      ]
    },
    {
      "cell_type": "code",
      "metadata": {
        "colab": {
          "base_uri": "https://localhost:8080/"
        },
        "id": "UJv839D1I8xD",
        "outputId": "d8b1ed17-7203-4016-aa16-a0861694deec"
      },
      "source": [
        "from scipy.stats import ttest_ind\r\n",
        "from scipy.stats import levene\r\n",
        "lev = levene(df_upadli['EMPLOYEES'],df_nieupadli['EMPLOYEES'])\r\n",
        "ttes = ttest_ind(df_upadli['EMPLOYEES'],df_nieupadli['EMPLOYEES'], equal_var = False)\r\n",
        "print(\"wynik testu levena to\",lev, \"a wynik testu t to \", ttes)"
      ],
      "execution_count": 44,
      "outputs": [
        {
          "output_type": "stream",
          "text": [
            "wynik testu levena to LeveneResult(statistic=115.95307114448607, pvalue=6.833194648325876e-27) a wynik testu t to  Ttest_indResult(statistic=14.240355181921714, pvalue=1.443419444263094e-45)\n"
          ],
          "name": "stdout"
        }
      ]
    },
    {
      "cell_type": "code",
      "metadata": {
        "colab": {
          "base_uri": "https://localhost:8080/"
        },
        "id": "PMl7pCgtJmV4",
        "outputId": "c75f237f-b8c5-4d69-bafc-f1e5285592ab"
      },
      "source": [
        "from statistics import mean, stdev\r\n",
        "from math import sqrt\r\n",
        "\r\n",
        "cohens_d = (mean(df_upadli['EMPLOYEES']) - mean(df_nieupadli['EMPLOYEES'])) / (sqrt((stdev(df_upadli['EMPLOYEES']) ** 2 + stdev(df_nieupadli['EMPLOYEES']) ** 2) / 2))\r\n",
        "\r\n",
        "print(cohens_d)"
      ],
      "execution_count": 45,
      "outputs": [
        {
          "output_type": "stream",
          "text": [
            "0.2850231208069894\n"
          ],
          "name": "stdout"
        }
      ]
    },
    {
      "cell_type": "code",
      "metadata": {
        "colab": {
          "base_uri": "https://localhost:8080/"
        },
        "id": "Rm1_lc7eJID7",
        "outputId": "c4d98c9e-c386-49d0-9dfc-82404f5ee2ce"
      },
      "source": [
        "\r\n",
        "lev = levene(df_upadli['INCOME'],df_nieupadli['INCOME'])\r\n",
        "ttes = ttest_ind(df_upadli['INCOME'],df_nieupadli['INCOME'], equal_var = False)\r\n",
        "print(\"wynik testu levena to\",lev, \"a wynik testu t to \", ttes)"
      ],
      "execution_count": 46,
      "outputs": [
        {
          "output_type": "stream",
          "text": [
            "wynik testu levena to LeveneResult(statistic=758.848736005936, pvalue=4.4595742051353034e-161) a wynik testu t to  Ttest_indResult(statistic=11.503804654368476, pvalue=1.98273725107839e-30)\n"
          ],
          "name": "stdout"
        }
      ]
    },
    {
      "cell_type": "code",
      "metadata": {
        "colab": {
          "base_uri": "https://localhost:8080/"
        },
        "id": "5niCSDw3NM2C",
        "outputId": "431918f1-9513-44b4-d1b4-8001934ab520"
      },
      "source": [
        "cohens_d = (mean(df_upadli['INCOME']) - mean(df_nieupadli['INCOME'])) / (sqrt((stdev(df_upadli['INCOME']) ** 2 + stdev(df_nieupadli['INCOME']) ** 2) / 2))\r\n",
        "\r\n",
        "print(cohens_d)"
      ],
      "execution_count": 47,
      "outputs": [
        {
          "output_type": "stream",
          "text": [
            "0.22882410611334025\n"
          ],
          "name": "stdout"
        }
      ]
    },
    {
      "cell_type": "code",
      "metadata": {
        "colab": {
          "base_uri": "https://localhost:8080/"
        },
        "id": "NLsfXiksNgPA",
        "outputId": "89ab69ef-985b-4190-d4b1-5d66c007a51c"
      },
      "source": [
        "lev = levene(df_upadli['MARKETING_SPENDING'],df_nieupadli['MARKETING_SPENDING'])\r\n",
        "ttes = ttest_ind(df_upadli['MARKETING_SPENDING'],df_nieupadli['MARKETING_SPENDING'], equal_var = False)\r\n",
        "print(\"wynik testu levena to\",lev, \"a wynik testu t to \", ttes)"
      ],
      "execution_count": 48,
      "outputs": [
        {
          "output_type": "stream",
          "text": [
            "wynik testu levena to LeveneResult(statistic=892.4740697165877, pvalue=6.510019543503144e-188) a wynik testu t to  Ttest_indResult(statistic=31.393585307505955, pvalue=1.3153084046411964e-204)\n"
          ],
          "name": "stdout"
        }
      ]
    },
    {
      "cell_type": "code",
      "metadata": {
        "colab": {
          "base_uri": "https://localhost:8080/"
        },
        "id": "UeKYBW_6Npoz",
        "outputId": "bffdccd2-e9dd-4103-a3ab-736459f94233"
      },
      "source": [
        "cohens_d = (mean(df_upadli['MARKETING_SPENDING']) - mean(df_nieupadli['MARKETING_SPENDING'])) / (sqrt((stdev(df_upadli['MARKETING_SPENDING']) ** 2 + stdev(df_nieupadli['MARKETING_SPENDING']) ** 2) / 2))\r\n",
        "\r\n",
        "print(cohens_d)"
      ],
      "execution_count": 49,
      "outputs": [
        {
          "output_type": "stream",
          "text": [
            "0.6199301791620687\n"
          ],
          "name": "stdout"
        }
      ]
    },
    {
      "cell_type": "code",
      "metadata": {
        "colab": {
          "base_uri": "https://localhost:8080/"
        },
        "id": "WUYUAnIQONmQ",
        "outputId": "25fb6dc9-8d34-44d6-b552-871325a3ea1a"
      },
      "source": [
        "lev = levene(df_upadli['PWC_PRESS_INDEX'],df_nieupadli['PWC_PRESS_INDEX'])\r\n",
        "ttes = ttest_ind(df_upadli['PWC_PRESS_INDEX'],df_nieupadli['PWC_PRESS_INDEX'], equal_var = False)\r\n",
        "print(\"wynik testu levena to\",lev, \"a wynik testu t to \", ttes)"
      ],
      "execution_count": 50,
      "outputs": [
        {
          "output_type": "stream",
          "text": [
            "wynik testu levena to LeveneResult(statistic=80.94300072198031, pvalue=2.7453683810156755e-19) a wynik testu t to  Ttest_indResult(statistic=17.671804092292547, pvalue=9.289212386085558e-69)\n"
          ],
          "name": "stdout"
        }
      ]
    },
    {
      "cell_type": "code",
      "metadata": {
        "colab": {
          "base_uri": "https://localhost:8080/"
        },
        "id": "XjyJJNmaON62",
        "outputId": "c19193dd-d66f-45a8-bc04-2836fd5ac80c"
      },
      "source": [
        "cohens_d = (mean(df_upadli['PWC_PRESS_INDEX']) - mean(df_nieupadli['PWC_PRESS_INDEX'])) / (sqrt((stdev(df_upadli['PWC_PRESS_INDEX']) ** 2 + stdev(df_nieupadli['PWC_PRESS_INDEX']) ** 2) / 2))\r\n",
        "\r\n",
        "print(cohens_d)"
      ],
      "execution_count": 51,
      "outputs": [
        {
          "output_type": "stream",
          "text": [
            "0.3556159441398168\n"
          ],
          "name": "stdout"
        }
      ]
    },
    {
      "cell_type": "code",
      "metadata": {
        "colab": {
          "base_uri": "https://localhost:8080/"
        },
        "id": "l32bJt5GQlnG",
        "outputId": "1cd4b0ec-6206-4cd1-f30b-9aca530b20d4"
      },
      "source": [
        "lev = levene(df_upadli['TWT_FOLLOWERS'],df_nieupadli['TWT_FOLLOWERS'])\r\n",
        "ttes = ttest_ind(df_upadli['TWT_FOLLOWERS'],df_nieupadli['TWT_FOLLOWERS'], equal_var = False)\r\n",
        "print(\"wynik testu levena to\",lev, \"a wynik testu t to \", ttes)"
      ],
      "execution_count": 52,
      "outputs": [
        {
          "output_type": "stream",
          "text": [
            "wynik testu levena to LeveneResult(statistic=832.7228465998088, pvalue=5.911868555000186e-176) a wynik testu t to  Ttest_indResult(statistic=31.300397104571037, pvalue=1.754763509865475e-203)\n"
          ],
          "name": "stdout"
        }
      ]
    },
    {
      "cell_type": "code",
      "metadata": {
        "colab": {
          "base_uri": "https://localhost:8080/"
        },
        "id": "kNTrXijqQlZf",
        "outputId": "bdce63d3-c0e0-4082-b7b8-fbb5890ce902"
      },
      "source": [
        "cohens_d = (mean(df_upadli['TWT_FOLLOWERS']) - mean(df_nieupadli['TWT_FOLLOWERS'])) / (sqrt((stdev(df_upadli['TWT_FOLLOWERS']) ** 2 + stdev(df_nieupadli['TWT_FOLLOWERS']) ** 2) / 2))\r\n",
        "\r\n",
        "print(cohens_d)"
      ],
      "execution_count": 53,
      "outputs": [
        {
          "output_type": "stream",
          "text": [
            "0.6181121061200178\n"
          ],
          "name": "stdout"
        }
      ]
    },
    {
      "cell_type": "code",
      "metadata": {
        "colab": {
          "base_uri": "https://localhost:8080/"
        },
        "id": "k9c4nQ4ngF50",
        "outputId": "ab2168e2-9fe7-49cc-b7f6-821d6de3fda5"
      },
      "source": [
        "lev = levene(df_upadli['AREA'],df_nieupadli['AREA'])\r\n",
        "ttes = ttest_ind(df_upadli['AREA'],df_nieupadli['AREA'], equal_var = False)\r\n",
        "print(\"wynik testu levena to\",lev, \"a wynik testu t to \", ttes)"
      ],
      "execution_count": 54,
      "outputs": [
        {
          "output_type": "stream",
          "text": [
            "wynik testu levena to LeveneResult(statistic=353.160947068473, pvalue=1.8607634888317995e-77) a wynik testu t to  Ttest_indResult(statistic=16.194738102186392, pvalue=3.071742188750249e-58)\n"
          ],
          "name": "stdout"
        }
      ]
    },
    {
      "cell_type": "code",
      "metadata": {
        "colab": {
          "base_uri": "https://localhost:8080/"
        },
        "id": "Iu7UECMGgFvl",
        "outputId": "b5efe7c0-aa99-47de-ac3b-a8b4084cd60a"
      },
      "source": [
        "cohens_d = (mean(df_upadli['AREA']) - mean(df_nieupadli['AREA'])) / (sqrt((stdev(df_upadli['AREA']) ** 2 + stdev(df_nieupadli['AREA']) ** 2) / 2))\r\n",
        "\r\n",
        "print(cohens_d)"
      ],
      "execution_count": 55,
      "outputs": [
        {
          "output_type": "stream",
          "text": [
            "0.32258751132605606\n"
          ],
          "name": "stdout"
        }
      ]
    },
    {
      "cell_type": "code",
      "metadata": {
        "colab": {
          "base_uri": "https://localhost:8080/"
        },
        "id": "4Uh7rLf0fwN4",
        "outputId": "992b6f8a-8e7d-437a-8cfd-fd1f14e4660a"
      },
      "source": [
        "lev = levene(df_upadli['FB_LIKES'],df_nieupadli['FB_LIKES'])\r\n",
        "ttes = ttest_ind(df_upadli['FB_LIKES'],df_nieupadli['FB_LIKES'], equal_var = False)\r\n",
        "print(\"wynik testu levena to\",lev, \"a wynik testu t to \", ttes)"
      ],
      "execution_count": 56,
      "outputs": [
        {
          "output_type": "stream",
          "text": [
            "wynik testu levena to LeveneResult(statistic=185.88019729538047, pvalue=5.973946349792309e-42) a wynik testu t to  Ttest_indResult(statistic=14.914802186204657, pvalue=9.058746358104706e-50)\n"
          ],
          "name": "stdout"
        }
      ]
    },
    {
      "cell_type": "code",
      "metadata": {
        "colab": {
          "base_uri": "https://localhost:8080/"
        },
        "id": "yEgnfXYhfv2G",
        "outputId": "d1b1b2a5-a745-47a2-8456-30dd460013a4"
      },
      "source": [
        "cohens_d = (mean(df_upadli['FB_LIKES']) - mean(df_nieupadli['FB_LIKES'])) / (sqrt((stdev(df_upadli['FB_LIKES']) ** 2 + stdev(df_nieupadli['FB_LIKES']) ** 2) / 2))\r\n",
        "\r\n",
        "print(cohens_d)"
      ],
      "execution_count": 57,
      "outputs": [
        {
          "output_type": "stream",
          "text": [
            "0.2975435025263735\n"
          ],
          "name": "stdout"
        }
      ]
    },
    {
      "cell_type": "code",
      "metadata": {
        "colab": {
          "base_uri": "https://localhost:8080/"
        },
        "id": "EMtmNx-6gZtO",
        "outputId": "78806608-c8e2-4051-ce4f-e563a660edff"
      },
      "source": [
        "lev = levene(df_upadli['PWC_EMPLOYEES'],df_nieupadli['PWC_EMPLOYEES'])\r\n",
        "ttes = ttest_ind(df_upadli['PWC_EMPLOYEES'],df_nieupadli['PWC_EMPLOYEES'], equal_var = False)\r\n",
        "print(\"wynik testu levena to\",lev, \"a wynik testu t to \", ttes)"
      ],
      "execution_count": 58,
      "outputs": [
        {
          "output_type": "stream",
          "text": [
            "wynik testu levena to LeveneResult(statistic=633.9679387399027, pvalue=1.0905226910957373e-135) a wynik testu t to  Ttest_indResult(statistic=30.911774851630444, pvalue=4.957316297746933e-199)\n"
          ],
          "name": "stdout"
        }
      ]
    },
    {
      "cell_type": "code",
      "metadata": {
        "colab": {
          "base_uri": "https://localhost:8080/"
        },
        "id": "8LSwbnptgZjk",
        "outputId": "a10657ab-4e65-4d61-dac6-b0566a2193f6"
      },
      "source": [
        "cohens_d = (mean(df_upadli['PWC_EMPLOYEES']) - mean(df_nieupadli['PWC_EMPLOYEES'])) / (sqrt((stdev(df_upadli['PWC_EMPLOYEES']) ** 2 + stdev(df_nieupadli['PWC_EMPLOYEES']) ** 2) / 2))\r\n",
        "\r\n",
        "print(cohens_d)\r\n"
      ],
      "execution_count": 59,
      "outputs": [
        {
          "output_type": "stream",
          "text": [
            "0.6109913762679716\n"
          ],
          "name": "stdout"
        }
      ]
    },
    {
      "cell_type": "code",
      "metadata": {
        "colab": {
          "base_uri": "https://localhost:8080/"
        },
        "id": "pewYfojZguyo",
        "outputId": "64caa416-4dc0-4aa9-b57f-a0620ee4e32e"
      },
      "source": [
        "lev = levene(df_upadli['CREDIT'],df_nieupadli['CREDIT'])\r\n",
        "ttes = ttest_ind(df_upadli['CREDIT'],df_nieupadli['CREDIT'], equal_var = False)\r\n",
        "print(\"wynik testu levena to\",lev, \"a wynik testu t to \", ttes)"
      ],
      "execution_count": 60,
      "outputs": [
        {
          "output_type": "stream",
          "text": [
            "wynik testu levena to LeveneResult(statistic=7.30897667214601, pvalue=0.0068726995050187424) a wynik testu t to  Ttest_indResult(statistic=2.7173023240316607, pvalue=0.006593009619936354)\n"
          ],
          "name": "stdout"
        }
      ]
    },
    {
      "cell_type": "code",
      "metadata": {
        "colab": {
          "base_uri": "https://localhost:8080/"
        },
        "id": "4cDzFnDwguqz",
        "outputId": "e8f98663-311c-437c-be86-78045b7363e1"
      },
      "source": [
        "cohens_d = (mean(df_upadli['CREDIT']) - mean(df_nieupadli['CREDIT'])) / (sqrt((stdev(df_upadli['CREDIT']) ** 2 + stdev(df_nieupadli['CREDIT']) ** 2) / 2))\r\n",
        "\r\n",
        "print(cohens_d)\r\n"
      ],
      "execution_count": 61,
      "outputs": [
        {
          "output_type": "stream",
          "text": [
            "0.05419903806220481\n"
          ],
          "name": "stdout"
        }
      ]
    },
    {
      "cell_type": "markdown",
      "metadata": {
        "id": "AfjNok6CmnPC"
      },
      "source": [
        "WIZUALIZACJA zmiennych, które najbardziej różniły się w grupach upadli i nie_upadli (tych zmiennych które później zostały użyte do budowy modelu)"
      ]
    },
    {
      "cell_type": "code",
      "metadata": {
        "colab": {
          "base_uri": "https://localhost:8080/",
          "height": 279
        },
        "id": "DTxSJtUlrSQ1",
        "outputId": "a8f8a4c3-d4a9-47d0-83d2-6259e46f25f5"
      },
      "source": [
        "sns.kdeplot(df_clean.MARKETING_SPENDING[df_clean.FLAG==0], label='nieupadli', shade=True, color = 'green')\r\n",
        "sns.kdeplot(df_clean.MARKETING_SPENDING[df_clean.FLAG==1], label='upadli', shade=True, color = 'red')\r\n",
        "plt.legend(labels=['non_Bankrupt', 'bankrupt'])\r\n",
        "plt.xlabel('MARKETING SPENDING');"
      ],
      "execution_count": 62,
      "outputs": [
        {
          "output_type": "display_data",
          "data": {
            "image/png": "[encoded data removed]",
            "text/plain": [
              "<Figure size 432x288 with 1 Axes>"
            ]
          },
          "metadata": {
            "tags": [],
            "needs_background": "light"
          }
        }
      ]
    },
    {
      "cell_type": "code",
      "metadata": {
        "colab": {
          "base_uri": "https://localhost:8080/",
          "height": 279
        },
        "id": "8OVh3UTrTgyP",
        "outputId": "402423e2-6f89-4059-948f-383a5e1b9096"
      },
      "source": [
        "sns.kdeplot(df_clean.EMPLOYEES[df_clean.FLAG==0], label='nieupadli', shade=True, color = 'green')\r\n",
        "sns.kdeplot(df_clean.EMPLOYEES[df_clean.FLAG==1], label='upadli', shade=True, color = 'red')\r\n",
        "plt.legend(labels=['non_Bankrupt', 'bankrupt'])\r\n",
        "plt.xlabel('EMPLOYEES');"
      ],
      "execution_count": 63,
      "outputs": [
        {
          "output_type": "display_data",
          "data": {
            "image/png": "[encoded data removed]",
            "text/plain": [
              "<Figure size 432x288 with 1 Axes>"
            ]
          },
          "metadata": {
            "tags": [],
            "needs_background": "light"
          }
        }
      ]
    },
    {
      "cell_type": "code",
      "metadata": {
        "colab": {
          "base_uri": "https://localhost:8080/",
          "height": 279
        },
        "id": "-Wtv6_3_T3LZ",
        "outputId": "89dcb2fb-621f-49cb-f9f9-1bfcaad2f590"
      },
      "source": [
        "sns.kdeplot(df_clean.TWT_FOLLOWERS[df_clean.FLAG==0], label='nieupadli', shade=True, color = 'green')\r\n",
        "sns.kdeplot(df_clean.TWT_FOLLOWERS[df_clean.FLAG==1], label='upadli',  shade=True, color = 'red')\r\n",
        "plt.legend(labels=['non_Bankrupt', 'bankrupt'])\r\n",
        "plt.xlabel('TWITTER FOLLOWERS');"
      ],
      "execution_count": 64,
      "outputs": [
        {
          "output_type": "display_data",
          "data": {
            "image/png": "[encoded data removed]",
            "text/plain": [
              "<Figure size 432x288 with 1 Axes>"
            ]
          },
          "metadata": {
            "tags": [],
            "needs_background": "light"
          }
        }
      ]
    },
    {
      "cell_type": "code",
      "metadata": {
        "colab": {
          "base_uri": "https://localhost:8080/",
          "height": 279
        },
        "id": "33Wp6m9L-DTV",
        "outputId": "c6e89530-8404-413f-c1f2-8c10413eed09"
      },
      "source": [
        "sns.kdeplot(df_clean.PWC_EMPLOYEES[df_clean.FLAG==0], label='nieupadli', shade=True, color = 'green')\r\n",
        "sns.kdeplot(df_clean.PWC_EMPLOYEES[df_clean.FLAG==1], label='upadli',  shade=True, color = 'red')\r\n",
        "plt.legend(labels=['Nieupadli', 'Upadli'])\r\n",
        "plt.xlabel('PWC employees');"
      ],
      "execution_count": 65,
      "outputs": [
        {
          "output_type": "display_data",
          "data": {
            "image/png": "[encoded data removed]",
            "text/plain": [
              "<Figure size 432x288 with 1 Axes>"
            ]
          },
          "metadata": {
            "tags": [],
            "needs_background": "light"
          }
        }
      ]
    },
    {
      "cell_type": "markdown",
      "metadata": {
        "id": "xd22GPf8LF0c"
      },
      "source": [
        "# Przygotowywanie danych do Machine learning model\r\n",
        "\r\n",
        "Pamiętaj o cleaning data (nie wiem czy zrobiłes to dostatecznie dobrze) , oraz categorical variables (zamieniamy je na tzw. dummy variables)\r\n"
      ]
    },
    {
      "cell_type": "code",
      "metadata": {
        "colab": {
          "base_uri": "https://localhost:8080/"
        },
        "id": "AtLK1kenh1QV",
        "outputId": "b93a4700-bb02-4f8b-8d6e-746693b0b949"
      },
      "source": [
        "df_clean['EXP_CEO'].replace(to_replace='NA', value = 7, inplace =True) # 7 to wartość oczekiwana\r\n",
        "df_clean['EXP_CEO'].tail(5)"
      ],
      "execution_count": 66,
      "outputs": [
        {
          "output_type": "execute_result",
          "data": {
            "text/plain": [
              "9995     7\n",
              "9996     7\n",
              "9997     5\n",
              "9998     6\n",
              "9999    13\n",
              "Name: EXP_CEO, dtype: object"
            ]
          },
          "metadata": {
            "tags": []
          },
          "execution_count": 66
        }
      ]
    },
    {
      "cell_type": "code",
      "metadata": {
        "colab": {
          "base_uri": "https://localhost:8080/"
        },
        "id": "xz8Iu5zytbXr",
        "outputId": "78a130bc-7f81-4260-df55-8e4d328a22e0"
      },
      "source": [
        "nowakolumna = df_clean['YEAR_FOUNDED'].astype(int).subtract(2014)\r\n",
        "YEAR_FOUNDED_ABSOLUTE=np.absolute(nowakolumna)\r\n",
        "YEAR_FOUNDED_ABSOLUTE\r\n"
      ],
      "execution_count": 67,
      "outputs": [
        {
          "output_type": "execute_result",
          "data": {
            "text/plain": [
              "0        4\n",
              "1        3\n",
              "2        9\n",
              "3        3\n",
              "4        2\n",
              "        ..\n",
              "9995     2\n",
              "9996     8\n",
              "9997    12\n",
              "9998    13\n",
              "9999    15\n",
              "Name: YEAR_FOUNDED, Length: 10000, dtype: int64"
            ]
          },
          "metadata": {
            "tags": []
          },
          "execution_count": 67
        }
      ]
    },
    {
      "cell_type": "code",
      "metadata": {
        "colab": {
          "base_uri": "https://localhost:8080/",
          "height": 399
        },
        "id": "ia-Z-UHTKlBV",
        "outputId": "f58ec370-a001-4efa-b33c-444eaba4df4f"
      },
      "source": [
        " SECTOR_dummy = pd.get_dummies(df_clean['SECTOR'], drop_first=True)\r\n",
        " SECTOR_dummy"
      ],
      "execution_count": 68,
      "outputs": [
        {
          "output_type": "execute_result",
          "data": {
            "text/html": [
              "<div>\n",
              "<style scoped>\n",
              "    .dataframe tbody tr th:only-of-type {\n",
              "        vertical-align: middle;\n",
              "    }\n",
              "\n",
              "    .dataframe tbody tr th {\n",
              "        vertical-align: top;\n",
              "    }\n",
              "\n",
              "    .dataframe thead th {\n",
              "        text-align: right;\n",
              "    }\n",
              "</style>\n",
              "<table border=\"1\" class=\"dataframe\">\n",
              "  <thead>\n",
              "    <tr style=\"text-align: right;\">\n",
              "      <th></th>\n",
              "      <th>IT</th>\n",
              "      <th>PUB</th>\n",
              "      <th>RESTAURANT</th>\n",
              "    </tr>\n",
              "  </thead>\n",
              "  <tbody>\n",
              "    <tr>\n",
              "      <th>0</th>\n",
              "      <td>0</td>\n",
              "      <td>1</td>\n",
              "      <td>0</td>\n",
              "    </tr>\n",
              "    <tr>\n",
              "      <th>1</th>\n",
              "      <td>0</td>\n",
              "      <td>1</td>\n",
              "      <td>0</td>\n",
              "    </tr>\n",
              "    <tr>\n",
              "      <th>2</th>\n",
              "      <td>1</td>\n",
              "      <td>0</td>\n",
              "      <td>0</td>\n",
              "    </tr>\n",
              "    <tr>\n",
              "      <th>3</th>\n",
              "      <td>1</td>\n",
              "      <td>0</td>\n",
              "      <td>0</td>\n",
              "    </tr>\n",
              "    <tr>\n",
              "      <th>4</th>\n",
              "      <td>1</td>\n",
              "      <td>0</td>\n",
              "      <td>0</td>\n",
              "    </tr>\n",
              "    <tr>\n",
              "      <th>...</th>\n",
              "      <td>...</td>\n",
              "      <td>...</td>\n",
              "      <td>...</td>\n",
              "    </tr>\n",
              "    <tr>\n",
              "      <th>9995</th>\n",
              "      <td>1</td>\n",
              "      <td>0</td>\n",
              "      <td>0</td>\n",
              "    </tr>\n",
              "    <tr>\n",
              "      <th>9996</th>\n",
              "      <td>1</td>\n",
              "      <td>0</td>\n",
              "      <td>0</td>\n",
              "    </tr>\n",
              "    <tr>\n",
              "      <th>9997</th>\n",
              "      <td>1</td>\n",
              "      <td>0</td>\n",
              "      <td>0</td>\n",
              "    </tr>\n",
              "    <tr>\n",
              "      <th>9998</th>\n",
              "      <td>1</td>\n",
              "      <td>0</td>\n",
              "      <td>0</td>\n",
              "    </tr>\n",
              "    <tr>\n",
              "      <th>9999</th>\n",
              "      <td>1</td>\n",
              "      <td>0</td>\n",
              "      <td>0</td>\n",
              "    </tr>\n",
              "  </tbody>\n",
              "</table>\n",
              "<p>10000 rows × 3 columns</p>\n",
              "</div>"
            ],
            "text/plain": [
              "      IT  PUB  RESTAURANT\n",
              "0      0    1           0\n",
              "1      0    1           0\n",
              "2      1    0           0\n",
              "3      1    0           0\n",
              "4      1    0           0\n",
              "...   ..  ...         ...\n",
              "9995   1    0           0\n",
              "9996   1    0           0\n",
              "9997   1    0           0\n",
              "9998   1    0           0\n",
              "9999   1    0           0\n",
              "\n",
              "[10000 rows x 3 columns]"
            ]
          },
          "metadata": {
            "tags": []
          },
          "execution_count": 68
        }
      ]
    },
    {
      "cell_type": "code",
      "metadata": {
        "colab": {
          "base_uri": "https://localhost:8080/",
          "height": 281
        },
        "id": "uG5xXwKwMkt0",
        "outputId": "d1237535-00fd-48c7-e533-38ad24046f4a"
      },
      "source": [
        "df_clean = pd.concat([df_clean, SECTOR_dummy, YEAR_FOUNDED_ABSOLUTE], axis = 1)\r\n",
        "df_clean.head()"
      ],
      "execution_count": 69,
      "outputs": [
        {
          "output_type": "execute_result",
          "data": {
            "text/html": [
              "<div>\n",
              "<style scoped>\n",
              "    .dataframe tbody tr th:only-of-type {\n",
              "        vertical-align: middle;\n",
              "    }\n",
              "\n",
              "    .dataframe tbody tr th {\n",
              "        vertical-align: top;\n",
              "    }\n",
              "\n",
              "    .dataframe thead th {\n",
              "        text-align: right;\n",
              "    }\n",
              "</style>\n",
              "<table border=\"1\" class=\"dataframe\">\n",
              "  <thead>\n",
              "    <tr style=\"text-align: right;\">\n",
              "      <th></th>\n",
              "      <th>ID</th>\n",
              "      <th>GEO</th>\n",
              "      <th>SECTOR</th>\n",
              "      <th>EMPLOYEES</th>\n",
              "      <th>INCOME</th>\n",
              "      <th>MARKETING_SPENDING</th>\n",
              "      <th>ACC_BEFORE</th>\n",
              "      <th>PWC_PRESS_INDEX</th>\n",
              "      <th>FB_LIKES</th>\n",
              "      <th>TWT_FOLLOWERS</th>\n",
              "      <th>YEAR_FOUNDED</th>\n",
              "      <th>EXP_CEO</th>\n",
              "      <th>AREA</th>\n",
              "      <th>PWC_EMPLOYEES</th>\n",
              "      <th>CREDIT</th>\n",
              "      <th>FLAG</th>\n",
              "      <th>latitude</th>\n",
              "      <th>longitude</th>\n",
              "      <th>cluster_label</th>\n",
              "      <th>IT</th>\n",
              "      <th>PUB</th>\n",
              "      <th>RESTAURANT</th>\n",
              "      <th>YEAR_FOUNDED</th>\n",
              "    </tr>\n",
              "  </thead>\n",
              "  <tbody>\n",
              "    <tr>\n",
              "      <th>0</th>\n",
              "      <td>1</td>\n",
              "      <td>21.0017163707095,52.2314057981037</td>\n",
              "      <td>PUB</td>\n",
              "      <td>2</td>\n",
              "      <td>150426.0</td>\n",
              "      <td>7964.0</td>\n",
              "      <td>0</td>\n",
              "      <td>-8.078335</td>\n",
              "      <td>1633</td>\n",
              "      <td>138</td>\n",
              "      <td>2010</td>\n",
              "      <td>7</td>\n",
              "      <td>32.0</td>\n",
              "      <td>0</td>\n",
              "      <td>19950.0</td>\n",
              "      <td>0</td>\n",
              "      <td>21.0017163707095</td>\n",
              "      <td>52.2314057981037</td>\n",
              "      <td>2</td>\n",
              "      <td>0</td>\n",
              "      <td>1</td>\n",
              "      <td>0</td>\n",
              "      <td>4</td>\n",
              "    </tr>\n",
              "    <tr>\n",
              "      <th>1</th>\n",
              "      <td>2</td>\n",
              "      <td>21.0068688148316  , 52.2332658119407</td>\n",
              "      <td>PUB</td>\n",
              "      <td>6</td>\n",
              "      <td>500078.0</td>\n",
              "      <td>30212.0</td>\n",
              "      <td>0</td>\n",
              "      <td>17.032851</td>\n",
              "      <td>6128</td>\n",
              "      <td>605</td>\n",
              "      <td>2011</td>\n",
              "      <td>7</td>\n",
              "      <td>44.0</td>\n",
              "      <td>1</td>\n",
              "      <td>45104.0</td>\n",
              "      <td>1</td>\n",
              "      <td>21.0068688148316</td>\n",
              "      <td>52.2332658119407</td>\n",
              "      <td>2</td>\n",
              "      <td>0</td>\n",
              "      <td>1</td>\n",
              "      <td>0</td>\n",
              "      <td>3</td>\n",
              "    </tr>\n",
              "    <tr>\n",
              "      <th>2</th>\n",
              "      <td>3</td>\n",
              "      <td>21.0746074383869  , 52.2790054865787</td>\n",
              "      <td>IT</td>\n",
              "      <td>27</td>\n",
              "      <td>199767.0</td>\n",
              "      <td>4970.0</td>\n",
              "      <td>0</td>\n",
              "      <td>-7.321621</td>\n",
              "      <td>487</td>\n",
              "      <td>106</td>\n",
              "      <td>2005</td>\n",
              "      <td>7</td>\n",
              "      <td>83.0</td>\n",
              "      <td>0</td>\n",
              "      <td>499.0</td>\n",
              "      <td>0</td>\n",
              "      <td>21.0746074383869</td>\n",
              "      <td>52.2790054865787</td>\n",
              "      <td>0</td>\n",
              "      <td>1</td>\n",
              "      <td>0</td>\n",
              "      <td>0</td>\n",
              "      <td>9</td>\n",
              "    </tr>\n",
              "    <tr>\n",
              "      <th>3</th>\n",
              "      <td>4</td>\n",
              "      <td>21.0120824468674  , 52.2320822895085</td>\n",
              "      <td>IT</td>\n",
              "      <td>5</td>\n",
              "      <td>109200.0</td>\n",
              "      <td>7010.0</td>\n",
              "      <td>1</td>\n",
              "      <td>1.135431</td>\n",
              "      <td>661</td>\n",
              "      <td>116</td>\n",
              "      <td>2011</td>\n",
              "      <td>7</td>\n",
              "      <td>21.0</td>\n",
              "      <td>1</td>\n",
              "      <td>0.0</td>\n",
              "      <td>1</td>\n",
              "      <td>21.0120824468674</td>\n",
              "      <td>52.2320822895085</td>\n",
              "      <td>2</td>\n",
              "      <td>1</td>\n",
              "      <td>0</td>\n",
              "      <td>0</td>\n",
              "      <td>3</td>\n",
              "    </tr>\n",
              "    <tr>\n",
              "      <th>4</th>\n",
              "      <td>5</td>\n",
              "      <td>21.0001250609641  , 52.2399573325692</td>\n",
              "      <td>IT</td>\n",
              "      <td>3</td>\n",
              "      <td>112200.0</td>\n",
              "      <td>9000.0</td>\n",
              "      <td>0</td>\n",
              "      <td>0.950873</td>\n",
              "      <td>926</td>\n",
              "      <td>172</td>\n",
              "      <td>2012</td>\n",
              "      <td>5</td>\n",
              "      <td>23.0</td>\n",
              "      <td>0</td>\n",
              "      <td>-997.0</td>\n",
              "      <td>1</td>\n",
              "      <td>21.0001250609641</td>\n",
              "      <td>52.2399573325692</td>\n",
              "      <td>2</td>\n",
              "      <td>1</td>\n",
              "      <td>0</td>\n",
              "      <td>0</td>\n",
              "      <td>2</td>\n",
              "    </tr>\n",
              "  </tbody>\n",
              "</table>\n",
              "</div>"
            ],
            "text/plain": [
              "   ID                                        GEO  ... RESTAURANT  YEAR_FOUNDED\n",
              "0   1          21.0017163707095,52.2314057981037  ...          0             4\n",
              "1   2   21.0068688148316  , 52.2332658119407      ...          0             3\n",
              "2   3     21.0746074383869  , 52.2790054865787    ...          0             9\n",
              "3   4   21.0120824468674  , 52.2320822895085      ...          0             3\n",
              "4   5   21.0001250609641  , 52.2399573325692      ...          0             2\n",
              "\n",
              "[5 rows x 23 columns]"
            ]
          },
          "metadata": {
            "tags": []
          },
          "execution_count": 69
        }
      ]
    },
    {
      "cell_type": "code",
      "metadata": {
        "colab": {
          "base_uri": "https://localhost:8080/"
        },
        "id": "IOm4TKSWZ2Sy",
        "outputId": "f5bcf2f9-c4c5-4805-f008-c36056d8b294"
      },
      "source": [
        "df_clean.columns"
      ],
      "execution_count": 70,
      "outputs": [
        {
          "output_type": "execute_result",
          "data": {
            "text/plain": [
              "Index(['ID', 'GEO', 'SECTOR', 'EMPLOYEES', 'INCOME', 'MARKETING_SPENDING',\n",
              "       'ACC_BEFORE', 'PWC_PRESS_INDEX', 'FB_LIKES', 'TWT_FOLLOWERS',\n",
              "       'YEAR_FOUNDED', 'EXP_CEO', 'AREA', 'PWC_EMPLOYEES', 'CREDIT', 'FLAG',\n",
              "       'latitude', 'longitude', 'cluster_label', 'IT', 'PUB', 'RESTAURANT',\n",
              "       'YEAR_FOUNDED'],\n",
              "      dtype='object')"
            ]
          },
          "metadata": {
            "tags": []
          },
          "execution_count": 70
        }
      ]
    },
    {
      "cell_type": "code",
      "metadata": {
        "id": "SWCO-kzDmzXJ"
      },
      "source": [
        "cols = []\r\n",
        "count = 1\r\n",
        "for column in df_clean.columns:\r\n",
        "    if column == 'YEAR_FOUNDED':\r\n",
        "        cols.append(f'YEAR_FOUNDED_{count}')\r\n",
        "        count+=1\r\n",
        "        continue\r\n",
        "    cols.append(column)\r\n",
        "df_clean.columns = cols"
      ],
      "execution_count": 71,
      "outputs": []
    },
    {
      "cell_type": "code",
      "metadata": {
        "colab": {
          "base_uri": "https://localhost:8080/"
        },
        "id": "GaHnZZ_GnQf-",
        "outputId": "b2a96486-ce70-4ae9-f0cf-c994d21f8475"
      },
      "source": [
        "df_clean.columns"
      ],
      "execution_count": 72,
      "outputs": [
        {
          "output_type": "execute_result",
          "data": {
            "text/plain": [
              "Index(['ID', 'GEO', 'SECTOR', 'EMPLOYEES', 'INCOME', 'MARKETING_SPENDING',\n",
              "       'ACC_BEFORE', 'PWC_PRESS_INDEX', 'FB_LIKES', 'TWT_FOLLOWERS',\n",
              "       'YEAR_FOUNDED_1', 'EXP_CEO', 'AREA', 'PWC_EMPLOYEES', 'CREDIT', 'FLAG',\n",
              "       'latitude', 'longitude', 'cluster_label', 'IT', 'PUB', 'RESTAURANT',\n",
              "       'YEAR_FOUNDED_2'],\n",
              "      dtype='object')"
            ]
          },
          "metadata": {
            "tags": []
          },
          "execution_count": 72
        }
      ]
    },
    {
      "cell_type": "code",
      "metadata": {
        "colab": {
          "base_uri": "https://localhost:8080/",
          "height": 194
        },
        "id": "tN9mGtMF4592",
        "outputId": "5d2ce739-2a8d-47ab-ddb0-30099030f3f6"
      },
      "source": [
        "df_clean.drop(['TWT_FOLLOWERS', 'AREA','INCOME','FB_LIKES','PWC_EMPLOYEES','ACC_BEFORE',\"CREDIT\",'cluster_label','PWC_PRESS_INDEX','ID','IT','PUB','RESTAURANT', 'GEO', 'SECTOR', 'YEAR_FOUNDED_1','latitude', 'longitude' , 'EXP_CEO'], axis = 1, inplace=True )\r\n",
        "df_clean.head()"
      ],
      "execution_count": 73,
      "outputs": [
        {
          "output_type": "execute_result",
          "data": {
            "text/html": [
              "<div>\n",
              "<style scoped>\n",
              "    .dataframe tbody tr th:only-of-type {\n",
              "        vertical-align: middle;\n",
              "    }\n",
              "\n",
              "    .dataframe tbody tr th {\n",
              "        vertical-align: top;\n",
              "    }\n",
              "\n",
              "    .dataframe thead th {\n",
              "        text-align: right;\n",
              "    }\n",
              "</style>\n",
              "<table border=\"1\" class=\"dataframe\">\n",
              "  <thead>\n",
              "    <tr style=\"text-align: right;\">\n",
              "      <th></th>\n",
              "      <th>EMPLOYEES</th>\n",
              "      <th>MARKETING_SPENDING</th>\n",
              "      <th>FLAG</th>\n",
              "      <th>YEAR_FOUNDED_2</th>\n",
              "    </tr>\n",
              "  </thead>\n",
              "  <tbody>\n",
              "    <tr>\n",
              "      <th>0</th>\n",
              "      <td>2</td>\n",
              "      <td>7964.0</td>\n",
              "      <td>0</td>\n",
              "      <td>4</td>\n",
              "    </tr>\n",
              "    <tr>\n",
              "      <th>1</th>\n",
              "      <td>6</td>\n",
              "      <td>30212.0</td>\n",
              "      <td>1</td>\n",
              "      <td>3</td>\n",
              "    </tr>\n",
              "    <tr>\n",
              "      <th>2</th>\n",
              "      <td>27</td>\n",
              "      <td>4970.0</td>\n",
              "      <td>0</td>\n",
              "      <td>9</td>\n",
              "    </tr>\n",
              "    <tr>\n",
              "      <th>3</th>\n",
              "      <td>5</td>\n",
              "      <td>7010.0</td>\n",
              "      <td>1</td>\n",
              "      <td>3</td>\n",
              "    </tr>\n",
              "    <tr>\n",
              "      <th>4</th>\n",
              "      <td>3</td>\n",
              "      <td>9000.0</td>\n",
              "      <td>1</td>\n",
              "      <td>2</td>\n",
              "    </tr>\n",
              "  </tbody>\n",
              "</table>\n",
              "</div>"
            ],
            "text/plain": [
              "   EMPLOYEES  MARKETING_SPENDING  FLAG  YEAR_FOUNDED_2\n",
              "0          2              7964.0     0               4\n",
              "1          6             30212.0     1               3\n",
              "2         27              4970.0     0               9\n",
              "3          5              7010.0     1               3\n",
              "4          3              9000.0     1               2"
            ]
          },
          "metadata": {
            "tags": []
          },
          "execution_count": 73
        }
      ]
    },
    {
      "cell_type": "code",
      "metadata": {
        "id": "AE5_pfLX48bd"
      },
      "source": [
        "X = df_clean.drop('FLAG', axis=1)\r\n",
        "y = df_clean['FLAG']"
      ],
      "execution_count": 74,
      "outputs": []
    },
    {
      "cell_type": "markdown",
      "metadata": {
        "id": "2g2vdqlGJlBF"
      },
      "source": [
        "# Model deployment and performance"
      ]
    },
    {
      "cell_type": "code",
      "metadata": {
        "id": "W1cIlci9Q_aW"
      },
      "source": [
        "from sklearn.model_selection import train_test_split"
      ],
      "execution_count": 75,
      "outputs": []
    },
    {
      "cell_type": "code",
      "metadata": {
        "id": "pmXkcfvPRQ33"
      },
      "source": [
        "X_train, X_test, y_train, y_test = train_test_split(X,y, test_size=0.30, random_state=48)"
      ],
      "execution_count": 76,
      "outputs": []
    },
    {
      "cell_type": "code",
      "metadata": {
        "id": "ymLgXdP3STaU"
      },
      "source": [
        "from sklearn.linear_model import LogisticRegression"
      ],
      "execution_count": 77,
      "outputs": []
    },
    {
      "cell_type": "code",
      "metadata": {
        "id": "s5eab0NBSY79"
      },
      "source": [
        "logmodel = LogisticRegression(solver = \"liblinear\", C=1,random_state = 0 )"
      ],
      "execution_count": 78,
      "outputs": []
    },
    {
      "cell_type": "code",
      "metadata": {
        "colab": {
          "base_uri": "https://localhost:8080/"
        },
        "id": "HnvxduaYSc6a",
        "outputId": "cf345701-c5f0-4dad-e0b6-a0480b8860f6"
      },
      "source": [
        "logmodel.fit(X_train, y_train)"
      ],
      "execution_count": 79,
      "outputs": [
        {
          "output_type": "execute_result",
          "data": {
            "text/plain": [
              "LogisticRegression(C=1, class_weight=None, dual=False, fit_intercept=True,\n",
              "                   intercept_scaling=1, l1_ratio=None, max_iter=100,\n",
              "                   multi_class='auto', n_jobs=None, penalty='l2',\n",
              "                   random_state=0, solver='liblinear', tol=0.0001, verbose=0,\n",
              "                   warm_start=False)"
            ]
          },
          "metadata": {
            "tags": []
          },
          "execution_count": 79
        }
      ]
    },
    {
      "cell_type": "code",
      "metadata": {
        "id": "fTl5PtvUSi4c"
      },
      "source": [
        "predictions = logmodel.predict(X_test)"
      ],
      "execution_count": 80,
      "outputs": []
    },
    {
      "cell_type": "code",
      "metadata": {
        "id": "Rd0phf5STmKj"
      },
      "source": [
        "from sklearn.metrics import classification_report"
      ],
      "execution_count": 81,
      "outputs": []
    },
    {
      "cell_type": "markdown",
      "metadata": {
        "id": "dMb9_06dJLc8"
      },
      "source": [
        "Na dole wskaźnik accuracy - czyli jaki procent firm został zakwalifikowany do odpowiedniej kategorii"
      ]
    },
    {
      "cell_type": "code",
      "metadata": {
        "colab": {
          "base_uri": "https://localhost:8080/"
        },
        "id": "w4nmB3WnIoPM",
        "outputId": "4c724e72-a9d2-4ca5-9094-f8782383cd25"
      },
      "source": [
        "logmodel.score(X_test, y_test)"
      ],
      "execution_count": 82,
      "outputs": [
        {
          "output_type": "execute_result",
          "data": {
            "text/plain": [
              "0.712"
            ]
          },
          "metadata": {
            "tags": []
          },
          "execution_count": 82
        }
      ]
    },
    {
      "cell_type": "code",
      "metadata": {
        "colab": {
          "base_uri": "https://localhost:8080/"
        },
        "id": "GDZR0MzUT6CO",
        "outputId": "b3ea8bd2-0853-4599-da96-2974690cc17b"
      },
      "source": [
        "print(classification_report(y_test, predictions))"
      ],
      "execution_count": 83,
      "outputs": [
        {
          "output_type": "stream",
          "text": [
            "              precision    recall  f1-score   support\n",
            "\n",
            "           0       0.69      0.70      0.70      1424\n",
            "           1       0.73      0.72      0.72      1576\n",
            "\n",
            "    accuracy                           0.71      3000\n",
            "   macro avg       0.71      0.71      0.71      3000\n",
            "weighted avg       0.71      0.71      0.71      3000\n",
            "\n"
          ],
          "name": "stdout"
        }
      ]
    },
    {
      "cell_type": "code",
      "metadata": {
        "colab": {
          "base_uri": "https://localhost:8080/"
        },
        "id": "FaFY-qhaKZ8Z",
        "outputId": "60fc2622-3e0b-4938-a051-cd251841e633"
      },
      "source": [
        "from sklearn.metrics import confusion_matrix\r\n",
        "confusion_matrix(y_test, predictions)"
      ],
      "execution_count": 84,
      "outputs": [
        {
          "output_type": "execute_result",
          "data": {
            "text/plain": [
              "array([[ 998,  426],\n",
              "       [ 438, 1138]])"
            ]
          },
          "metadata": {
            "tags": []
          },
          "execution_count": 84
        }
      ]
    },
    {
      "cell_type": "markdown",
      "metadata": {
        "id": "BfusD219HMke"
      },
      "source": [
        "Ta linijka kodu pobiera dane ze zbioru testowego i zwraca dla niego prawdopodobieństwo że wartość jest 0 (w pierwszej kolumnie), czyli że firma nie upadnie, w drugiej kolumnie zwracane jest prawdopodobieństwo że firma upadnie)"
      ]
    },
    {
      "cell_type": "code",
      "metadata": {
        "colab": {
          "base_uri": "https://localhost:8080/"
        },
        "id": "1NdRLzCeT-ri",
        "outputId": "b9b48e31-e7e1-4b17-c65a-f58ac44315bb"
      },
      "source": [
        "predictions_prob = logmodel.predict_proba(X_test[0:5])\r\n",
        "predictions_prob"
      ],
      "execution_count": 85,
      "outputs": [
        {
          "output_type": "execute_result",
          "data": {
            "text/plain": [
              "array([[0.84576807, 0.15423193],\n",
              "       [0.63810545, 0.36189455],\n",
              "       [0.8123996 , 0.1876004 ],\n",
              "       [0.6726158 , 0.3273842 ],\n",
              "       [0.4406095 , 0.5593905 ]])"
            ]
          },
          "metadata": {
            "tags": []
          },
          "execution_count": 85
        }
      ]
    },
    {
      "cell_type": "code",
      "metadata": {
        "colab": {
          "base_uri": "https://localhost:8080/"
        },
        "id": "7Qf4ccwmHifA",
        "outputId": "652f8b21-ae94-4244-86b8-bcb0e791726d"
      },
      "source": [
        "predictions_1 = logmodel.predict(X_test[0:5])\r\n",
        "predictions_1"
      ],
      "execution_count": 86,
      "outputs": [
        {
          "output_type": "execute_result",
          "data": {
            "text/plain": [
              "array([0, 0, 0, 0, 1])"
            ]
          },
          "metadata": {
            "tags": []
          },
          "execution_count": 86
        }
      ]
    },
    {
      "cell_type": "markdown",
      "metadata": {
        "id": "DbIopPB-IWpw"
      },
      "source": [
        "Sprwadzam jakie sa parametry stworzonego modelu. "
      ]
    },
    {
      "cell_type": "code",
      "metadata": {
        "colab": {
          "base_uri": "https://localhost:8080/"
        },
        "id": "JdHiN-qpEaLW",
        "outputId": "5ace5f55-ce42-4a34-dce5-b9f1a47a136b"
      },
      "source": [
        "logmodel.intercept_"
      ],
      "execution_count": 87,
      "outputs": [
        {
          "output_type": "execute_result",
          "data": {
            "text/plain": [
              "array([-0.00826275])"
            ]
          },
          "metadata": {
            "tags": []
          },
          "execution_count": 87
        }
      ]
    },
    {
      "cell_type": "code",
      "metadata": {
        "colab": {
          "base_uri": "https://localhost:8080/"
        },
        "id": "vrgV7gL-GoX7",
        "outputId": "fd23a849-ecec-4bec-e74e-8a1b215cb4ca"
      },
      "source": [
        "logmodel.coef_"
      ],
      "execution_count": 88,
      "outputs": [
        {
          "output_type": "execute_result",
          "data": {
            "text/plain": [
              "array([[ 3.44924451e-02,  3.80030429e-05, -1.16838671e-01]])"
            ]
          },
          "metadata": {
            "tags": []
          },
          "execution_count": 88
        }
      ]
    },
    {
      "cell_type": "code",
      "metadata": {
        "colab": {
          "base_uri": "https://localhost:8080/"
        },
        "id": "S_y_Nio351P4",
        "outputId": "cf81c953-4fbc-4f2b-bf8d-9926e5340e6d"
      },
      "source": [
        "X_train.columns"
      ],
      "execution_count": 89,
      "outputs": [
        {
          "output_type": "execute_result",
          "data": {
            "text/plain": [
              "Index(['EMPLOYEES', 'MARKETING_SPENDING', 'YEAR_FOUNDED_2'], dtype='object')"
            ]
          },
          "metadata": {
            "tags": []
          },
          "execution_count": 89
        }
      ]
    },
    {
      "cell_type": "markdown",
      "metadata": {
        "id": "H_4mRGKITvB0"
      },
      "source": [
        "# Wykresy i cohen dla zmiennej YEAR_FOUNDED_2 czyli dla AGE OF THE COMPANY"
      ]
    },
    {
      "cell_type": "code",
      "metadata": {
        "colab": {
          "base_uri": "https://localhost:8080/",
          "height": 399
        },
        "id": "AljTpJqmSvEQ",
        "outputId": "c41da1a1-274d-4a05-ef84-dc8506a3957f"
      },
      "source": [
        "grupowanie = df_clean.groupby(df_czysty.FLAG)\r\n",
        "df_upadli = grupowanie.get_group('1')\r\n",
        "df_nieupadli = grupowanie.get_group('0')\r\n",
        "df_upadli"
      ],
      "execution_count": 90,
      "outputs": [
        {
          "output_type": "execute_result",
          "data": {
            "text/html": [
              "<div>\n",
              "<style scoped>\n",
              "    .dataframe tbody tr th:only-of-type {\n",
              "        vertical-align: middle;\n",
              "    }\n",
              "\n",
              "    .dataframe tbody tr th {\n",
              "        vertical-align: top;\n",
              "    }\n",
              "\n",
              "    .dataframe thead th {\n",
              "        text-align: right;\n",
              "    }\n",
              "</style>\n",
              "<table border=\"1\" class=\"dataframe\">\n",
              "  <thead>\n",
              "    <tr style=\"text-align: right;\">\n",
              "      <th></th>\n",
              "      <th>EMPLOYEES</th>\n",
              "      <th>MARKETING_SPENDING</th>\n",
              "      <th>FLAG</th>\n",
              "      <th>YEAR_FOUNDED_2</th>\n",
              "    </tr>\n",
              "  </thead>\n",
              "  <tbody>\n",
              "    <tr>\n",
              "      <th>1</th>\n",
              "      <td>6</td>\n",
              "      <td>30212.0</td>\n",
              "      <td>1</td>\n",
              "      <td>3</td>\n",
              "    </tr>\n",
              "    <tr>\n",
              "      <th>3</th>\n",
              "      <td>5</td>\n",
              "      <td>7010.0</td>\n",
              "      <td>1</td>\n",
              "      <td>3</td>\n",
              "    </tr>\n",
              "    <tr>\n",
              "      <th>4</th>\n",
              "      <td>3</td>\n",
              "      <td>9000.0</td>\n",
              "      <td>1</td>\n",
              "      <td>2</td>\n",
              "    </tr>\n",
              "    <tr>\n",
              "      <th>5</th>\n",
              "      <td>17</td>\n",
              "      <td>37910.0</td>\n",
              "      <td>1</td>\n",
              "      <td>7</td>\n",
              "    </tr>\n",
              "    <tr>\n",
              "      <th>6</th>\n",
              "      <td>25</td>\n",
              "      <td>31980.0</td>\n",
              "      <td>1</td>\n",
              "      <td>3</td>\n",
              "    </tr>\n",
              "    <tr>\n",
              "      <th>...</th>\n",
              "      <td>...</td>\n",
              "      <td>...</td>\n",
              "      <td>...</td>\n",
              "      <td>...</td>\n",
              "    </tr>\n",
              "    <tr>\n",
              "      <th>9991</th>\n",
              "      <td>3</td>\n",
              "      <td>2920.0</td>\n",
              "      <td>1</td>\n",
              "      <td>2</td>\n",
              "    </tr>\n",
              "    <tr>\n",
              "      <th>9995</th>\n",
              "      <td>8</td>\n",
              "      <td>8980.0</td>\n",
              "      <td>1</td>\n",
              "      <td>2</td>\n",
              "    </tr>\n",
              "    <tr>\n",
              "      <th>9996</th>\n",
              "      <td>19</td>\n",
              "      <td>23940.0</td>\n",
              "      <td>1</td>\n",
              "      <td>8</td>\n",
              "    </tr>\n",
              "    <tr>\n",
              "      <th>9998</th>\n",
              "      <td>30</td>\n",
              "      <td>4957.0</td>\n",
              "      <td>1</td>\n",
              "      <td>13</td>\n",
              "    </tr>\n",
              "    <tr>\n",
              "      <th>9999</th>\n",
              "      <td>55</td>\n",
              "      <td>9972.0</td>\n",
              "      <td>1</td>\n",
              "      <td>15</td>\n",
              "    </tr>\n",
              "  </tbody>\n",
              "</table>\n",
              "<p>5261 rows × 4 columns</p>\n",
              "</div>"
            ],
            "text/plain": [
              "      EMPLOYEES  MARKETING_SPENDING  FLAG  YEAR_FOUNDED_2\n",
              "1             6             30212.0     1               3\n",
              "3             5              7010.0     1               3\n",
              "4             3              9000.0     1               2\n",
              "5            17             37910.0     1               7\n",
              "6            25             31980.0     1               3\n",
              "...         ...                 ...   ...             ...\n",
              "9991          3              2920.0     1               2\n",
              "9995          8              8980.0     1               2\n",
              "9996         19             23940.0     1               8\n",
              "9998         30              4957.0     1              13\n",
              "9999         55              9972.0     1              15\n",
              "\n",
              "[5261 rows x 4 columns]"
            ]
          },
          "metadata": {
            "tags": []
          },
          "execution_count": 90
        }
      ]
    },
    {
      "cell_type": "code",
      "metadata": {
        "colab": {
          "base_uri": "https://localhost:8080/",
          "height": 266
        },
        "id": "lu2qPdj4Sb6d",
        "outputId": "8995c865-561d-4d81-b438-834ca6b2b2fc"
      },
      "source": [
        "from matplotlib import pyplot\r\n",
        "#bins = np.linspace(-10, 10, 100)\r\n",
        "pyplot.hist(df_nieupadli['YEAR_FOUNDED_2'],bins=30, alpha=0.6, label='nieupadli')\r\n",
        "pyplot.hist(df_upadli['YEAR_FOUNDED_2'],bins=30, alpha=0.6, label='upadli')\r\n",
        "pyplot.legend(loc='upper right')\r\n",
        "pyplot.show()"
      ],
      "execution_count": 91,
      "outputs": [
        {
          "output_type": "display_data",
          "data": {
            "image/png": "[encoded data removed]",
            "text/plain": [
              "<Figure size 432x288 with 1 Axes>"
            ]
          },
          "metadata": {
            "tags": [],
            "needs_background": "light"
          }
        }
      ]
    },
    {
      "cell_type": "code",
      "metadata": {
        "colab": {
          "base_uri": "https://localhost:8080/",
          "height": 279
        },
        "id": "9z9iL3phUajX",
        "outputId": "05a43fb7-039c-4bf1-c0fd-48765b3a6daa"
      },
      "source": [
        "sns.kdeplot(df_clean.YEAR_FOUNDED_2[df_clean.FLAG==0], label='nieupadli', shade=True, color = 'green')\r\n",
        "sns.kdeplot(df_clean.YEAR_FOUNDED_2[df_clean.FLAG==1], label='upadli',  shade=True, color = 'red')\r\n",
        "plt.legend(labels=['non_Bankrupt', 'bankrupt'])\r\n",
        "plt.xlabel('AGE OF THE COMPANY');"
      ],
      "execution_count": 92,
      "outputs": [
        {
          "output_type": "display_data",
          "data": {
            "image/png": "[encoded data removed]",
            "text/plain": [
              "<Figure size 432x288 with 1 Axes>"
            ]
          },
          "metadata": {
            "tags": [],
            "needs_background": "light"
          }
        }
      ]
    },
    {
      "cell_type": "code",
      "metadata": {
        "colab": {
          "base_uri": "https://localhost:8080/",
          "height": 282
        },
        "id": "pElXyvCoUz4s",
        "outputId": "dfcede06-d854-4b23-bca5-d0cb5f197f94"
      },
      "source": [
        "df_upadli.describe()"
      ],
      "execution_count": 93,
      "outputs": [
        {
          "output_type": "execute_result",
          "data": {
            "text/html": [
              "<div>\n",
              "<style scoped>\n",
              "    .dataframe tbody tr th:only-of-type {\n",
              "        vertical-align: middle;\n",
              "    }\n",
              "\n",
              "    .dataframe tbody tr th {\n",
              "        vertical-align: top;\n",
              "    }\n",
              "\n",
              "    .dataframe thead th {\n",
              "        text-align: right;\n",
              "    }\n",
              "</style>\n",
              "<table border=\"1\" class=\"dataframe\">\n",
              "  <thead>\n",
              "    <tr style=\"text-align: right;\">\n",
              "      <th></th>\n",
              "      <th>EMPLOYEES</th>\n",
              "      <th>MARKETING_SPENDING</th>\n",
              "      <th>FLAG</th>\n",
              "      <th>YEAR_FOUNDED_2</th>\n",
              "    </tr>\n",
              "  </thead>\n",
              "  <tbody>\n",
              "    <tr>\n",
              "      <th>count</th>\n",
              "      <td>5261.00000</td>\n",
              "      <td>5261.000000</td>\n",
              "      <td>5261.0</td>\n",
              "      <td>5261.000000</td>\n",
              "    </tr>\n",
              "    <tr>\n",
              "      <th>mean</th>\n",
              "      <td>14.97453</td>\n",
              "      <td>16851.800418</td>\n",
              "      <td>1.0</td>\n",
              "      <td>6.016727</td>\n",
              "    </tr>\n",
              "    <tr>\n",
              "      <th>std</th>\n",
              "      <td>15.11422</td>\n",
              "      <td>14058.789007</td>\n",
              "      <td>0.0</td>\n",
              "      <td>4.536010</td>\n",
              "    </tr>\n",
              "    <tr>\n",
              "      <th>min</th>\n",
              "      <td>1.00000</td>\n",
              "      <td>830.000000</td>\n",
              "      <td>1.0</td>\n",
              "      <td>0.000000</td>\n",
              "    </tr>\n",
              "    <tr>\n",
              "      <th>25%</th>\n",
              "      <td>4.00000</td>\n",
              "      <td>7794.000000</td>\n",
              "      <td>1.0</td>\n",
              "      <td>2.000000</td>\n",
              "    </tr>\n",
              "    <tr>\n",
              "      <th>50%</th>\n",
              "      <td>6.00000</td>\n",
              "      <td>9887.000000</td>\n",
              "      <td>1.0</td>\n",
              "      <td>5.000000</td>\n",
              "    </tr>\n",
              "    <tr>\n",
              "      <th>75%</th>\n",
              "      <td>23.00000</td>\n",
              "      <td>29913.000000</td>\n",
              "      <td>1.0</td>\n",
              "      <td>9.000000</td>\n",
              "    </tr>\n",
              "    <tr>\n",
              "      <th>max</th>\n",
              "      <td>63.00000</td>\n",
              "      <td>68180.000000</td>\n",
              "      <td>1.0</td>\n",
              "      <td>23.000000</td>\n",
              "    </tr>\n",
              "  </tbody>\n",
              "</table>\n",
              "</div>"
            ],
            "text/plain": [
              "        EMPLOYEES  MARKETING_SPENDING    FLAG  YEAR_FOUNDED_2\n",
              "count  5261.00000         5261.000000  5261.0     5261.000000\n",
              "mean     14.97453        16851.800418     1.0        6.016727\n",
              "std      15.11422        14058.789007     0.0        4.536010\n",
              "min       1.00000          830.000000     1.0        0.000000\n",
              "25%       4.00000         7794.000000     1.0        2.000000\n",
              "50%       6.00000         9887.000000     1.0        5.000000\n",
              "75%      23.00000        29913.000000     1.0        9.000000\n",
              "max      63.00000        68180.000000     1.0       23.000000"
            ]
          },
          "metadata": {
            "tags": []
          },
          "execution_count": 93
        }
      ]
    },
    {
      "cell_type": "code",
      "metadata": {
        "colab": {
          "base_uri": "https://localhost:8080/",
          "height": 282
        },
        "id": "B8apUO98ZCM5",
        "outputId": "44002b6e-64df-4bd3-d9a9-9a63b4248d2e"
      },
      "source": [
        "df_nieupadli.describe()"
      ],
      "execution_count": 94,
      "outputs": [
        {
          "output_type": "execute_result",
          "data": {
            "text/html": [
              "<div>\n",
              "<style scoped>\n",
              "    .dataframe tbody tr th:only-of-type {\n",
              "        vertical-align: middle;\n",
              "    }\n",
              "\n",
              "    .dataframe tbody tr th {\n",
              "        vertical-align: top;\n",
              "    }\n",
              "\n",
              "    .dataframe thead th {\n",
              "        text-align: right;\n",
              "    }\n",
              "</style>\n",
              "<table border=\"1\" class=\"dataframe\">\n",
              "  <thead>\n",
              "    <tr style=\"text-align: right;\">\n",
              "      <th></th>\n",
              "      <th>EMPLOYEES</th>\n",
              "      <th>MARKETING_SPENDING</th>\n",
              "      <th>FLAG</th>\n",
              "      <th>YEAR_FOUNDED_2</th>\n",
              "    </tr>\n",
              "  </thead>\n",
              "  <tbody>\n",
              "    <tr>\n",
              "      <th>count</th>\n",
              "      <td>4739.000000</td>\n",
              "      <td>4739.000000</td>\n",
              "      <td>4739.0</td>\n",
              "      <td>4739.000000</td>\n",
              "    </tr>\n",
              "    <tr>\n",
              "      <th>mean</th>\n",
              "      <td>10.715763</td>\n",
              "      <td>9811.358936</td>\n",
              "      <td>0.0</td>\n",
              "      <td>8.287402</td>\n",
              "    </tr>\n",
              "    <tr>\n",
              "      <th>std</th>\n",
              "      <td>14.767425</td>\n",
              "      <td>7765.668943</td>\n",
              "      <td>0.0</td>\n",
              "      <td>4.399158</td>\n",
              "    </tr>\n",
              "    <tr>\n",
              "      <th>min</th>\n",
              "      <td>1.000000</td>\n",
              "      <td>2910.000000</td>\n",
              "      <td>0.0</td>\n",
              "      <td>0.000000</td>\n",
              "    </tr>\n",
              "    <tr>\n",
              "      <th>25%</th>\n",
              "      <td>3.000000</td>\n",
              "      <td>5039.000000</td>\n",
              "      <td>0.0</td>\n",
              "      <td>5.000000</td>\n",
              "    </tr>\n",
              "    <tr>\n",
              "      <th>50%</th>\n",
              "      <td>4.000000</td>\n",
              "      <td>7956.000000</td>\n",
              "      <td>0.0</td>\n",
              "      <td>8.000000</td>\n",
              "    </tr>\n",
              "    <tr>\n",
              "      <th>75%</th>\n",
              "      <td>6.000000</td>\n",
              "      <td>8142.000000</td>\n",
              "      <td>0.0</td>\n",
              "      <td>11.000000</td>\n",
              "    </tr>\n",
              "    <tr>\n",
              "      <th>max</th>\n",
              "      <td>61.000000</td>\n",
              "      <td>56080.000000</td>\n",
              "      <td>0.0</td>\n",
              "      <td>25.000000</td>\n",
              "    </tr>\n",
              "  </tbody>\n",
              "</table>\n",
              "</div>"
            ],
            "text/plain": [
              "         EMPLOYEES  MARKETING_SPENDING    FLAG  YEAR_FOUNDED_2\n",
              "count  4739.000000         4739.000000  4739.0     4739.000000\n",
              "mean     10.715763         9811.358936     0.0        8.287402\n",
              "std      14.767425         7765.668943     0.0        4.399158\n",
              "min       1.000000         2910.000000     0.0        0.000000\n",
              "25%       3.000000         5039.000000     0.0        5.000000\n",
              "50%       4.000000         7956.000000     0.0        8.000000\n",
              "75%       6.000000         8142.000000     0.0       11.000000\n",
              "max      61.000000        56080.000000     0.0       25.000000"
            ]
          },
          "metadata": {
            "tags": []
          },
          "execution_count": 94
        }
      ]
    },
    {
      "cell_type": "code",
      "metadata": {
        "colab": {
          "base_uri": "https://localhost:8080/"
        },
        "id": "diHMwu44Ejxg",
        "outputId": "6fd23106-4df6-4d34-b9a4-93fb0578ed09"
      },
      "source": [
        "cohens_d = (mean(df_upadli['YEAR_FOUNDED_2']) - mean(df_nieupadli['YEAR_FOUNDED_2'])) / (sqrt((stdev(df_upadli['YEAR_FOUNDED_2']) ** 2 + stdev(df_nieupadli['YEAR_FOUNDED_2']) ** 2) / 2))\r\n",
        "\r\n",
        "print(cohens_d)"
      ],
      "execution_count": 95,
      "outputs": [
        {
          "output_type": "stream",
          "text": [
            "-0.5081962440598659\n"
          ],
          "name": "stdout"
        }
      ]
    },
    {
      "cell_type": "code",
      "metadata": {
        "colab": {
          "base_uri": "https://localhost:8080/",
          "height": 279
        },
        "id": "LXWIajkRd0Ab",
        "outputId": "34b1caf8-7b50-4c1a-cf57-c56c4fbe3d1b"
      },
      "source": [
        "import numpy as np\r\n",
        "import matplotlib.pyplot as plt\r\n",
        " \r\n",
        "# set width of bar\r\n",
        "barWidth = 0.25\r\n",
        " \r\n",
        "# set height of bar\r\n",
        "bars1 = [15, 6, 6, 362]\r\n",
        "bars2 = [10.7, 12, 8.3, 258]\r\n",
        "\r\n",
        " \r\n",
        "# Set position of bar on X axis\r\n",
        "r1 = np.arange(len(bars1))\r\n",
        "r2 = [x + barWidth for x in r1]\r\n",
        "\r\n",
        " \r\n",
        "# Make the plot\r\n",
        "plt.bar(r1, bars1, color='#7f6d5f', width=barWidth, edgecolor='white', label='var1')\r\n",
        "plt.bar(r2, bars2, color='#557f2d', width=barWidth, edgecolor='white', label='var2')\r\n",
        "\r\n",
        " \r\n",
        "# Add xticks on the middle of the group bars\r\n",
        "plt.xlabel('group', fontweight='bold')\r\n",
        "plt.xticks([r + barWidth for r in range(len(bars1))], ['A', 'B', 'C', 'D', 'E'])\r\n",
        " \r\n",
        "# Create legend & Show graphic\r\n",
        "plt.legend()\r\n",
        "plt.show()\r\n"
      ],
      "execution_count": 103,
      "outputs": [
        {
          "output_type": "display_data",
          "data": {
            "image/png": "[encoded data removed]",
            "text/plain": [
              "<Figure size 432x288 with 1 Axes>"
            ]
          },
          "metadata": {
            "tags": [],
            "needs_background": "light"
          }
        }
      ]
    }
  ]
}